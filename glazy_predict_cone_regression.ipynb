{
  "nbformat": 4,
  "nbformat_minor": 0,
  "metadata": {
    "colab": {
      "name": "glazy_predict_cone_regression.ipynb",
      "provenance": [],
      "collapsed_sections": [],
      "toc_visible": true,
      "machine_shape": "hm",
      "include_colab_link": true
    },
    "kernelspec": {
      "display_name": "Python 3",
      "name": "python3"
    },
    "accelerator": "GPU"
  },
  "cells": [
    {
      "cell_type": "markdown",
      "metadata": {
        "id": "view-in-github",
        "colab_type": "text"
      },
      "source": [
        "<a href=\"https://colab.research.google.com/github/derekphilipau/glazy-data/blob/master/glazy_predict_cone_regression.ipynb\" target=\"_parent\"><img src=\"https://colab.research.google.com/assets/colab-badge.svg\" alt=\"Open In Colab\"/></a>"
      ]
    },
    {
      "cell_type": "markdown",
      "metadata": {
        "id": "Jb0VlOEj63xW"
      },
      "source": [
        "This Notebook was adapted from the excellent tutorial [Basic regression: Predict fuel efficiency](https://www.tensorflow.org/tutorials/keras/regression), video: [Get started with using TensorFlow to solve for regression problems](https://www.youtube.com/watch?v=-vHQub0NXI4)"
      ]
    },
    {
      "cell_type": "markdown",
      "metadata": {
        "id": "EIdT9iu_Z4Rb"
      },
      "source": [
        "# Basic regression: Predict Glaze Firing Cone (Temperature)"
      ]
    },
    {
      "cell_type": "markdown",
      "metadata": {
        "id": "AHp3M9ZmrIxj"
      },
      "source": [
        "In a *regression* problem, the aim is to predict the output of a continuous value, like a price or a probability. Contrast this with a *classification* problem, where the aim is to select a class from a list of classes (for example, where a picture contains an apple or an orange, recognizing which fruit is in the picture).\n",
        "\n",
        "This notebook uses data from the [Glazy Data Project](https://github.com/derekphilipau/glazy-data/) and builds a model to predict the firing temperature (Orton cone) of a glaze.  To do this, we look at the oxides of chemical analyses of glazes, like SiO2, Al2O3, CaO, etc.\n",
        "\n",
        "This example uses the `tf.keras` API, see [this guide](https://www.tensorflow.org/guide/keras) for details.\n",
        "\n",
        "Please see [Pieter Mostert's](https://github.com/PieterMostert) earlier work, [Glazy Data Analysis](https://github.com/PieterMostert/glazy-data-analysis) which goes deeper into problems with the Glazy dataset and discusses ways to deal with this problem."
      ]
    },
    {
      "cell_type": "code",
      "metadata": {
        "id": "moB4tpEHxKB3"
      },
      "source": [
        "# Use seaborn for pairplot\n",
        "!pip install -q seaborn"
      ],
      "execution_count": 1,
      "outputs": []
    },
    {
      "cell_type": "code",
      "metadata": {
        "id": "1rRo8oNqZ-Rj"
      },
      "source": [
        "import matplotlib.pyplot as plt\n",
        "import numpy as np\n",
        "import pandas as pd\n",
        "import seaborn as sns\n",
        "\n",
        "\n",
        "# Make numpy printouts easier to read.\n",
        "np.set_printoptions(precision=3, suppress=True)"
      ],
      "execution_count": 2,
      "outputs": []
    },
    {
      "cell_type": "code",
      "metadata": {
        "id": "9xQKvCJ85kCQ",
        "colab": {
          "base_uri": "https://localhost:8080/"
        },
        "outputId": "7c77802a-840d-4471-faf6-4dd31d8f0895"
      },
      "source": [
        "import tensorflow as tf\n",
        "\n",
        "from tensorflow import keras\n",
        "from tensorflow.keras import layers\n",
        "from tensorflow.keras.layers.experimental import preprocessing\n",
        "\n",
        "print(tf.__version__)"
      ],
      "execution_count": 3,
      "outputs": [
        {
          "output_type": "stream",
          "text": [
            "2.4.1\n"
          ],
          "name": "stdout"
        }
      ]
    },
    {
      "cell_type": "markdown",
      "metadata": {
        "id": "gFh9ne3FZ-On"
      },
      "source": [
        "### Get the data\n",
        "First download and import the dataset using pandas.  Only perform this step with ONE of the following cells:\n",
        "* FULL OXIDES:  Include all major oxides.  Round to hundredths of a percent.  Mol%\n",
        "* FULL OXIDES WITHOUT SPECIALTY GLAZES: Include major oxides,  Do NOT include specialty glazes.  Round to tenths of a percent.  Mol%.  START WITH THIS DATASET.\n",
        "* LIMITED OXIDES: Include only a subset of oxides.  Round to hundredths of a percent.  Mol%\n",
        "* LIMITED OXIDES: Include only a subset of oxides.  Does NOT include specialty glazes.  Round to hundredths of a percent.  Mol%\n",
        "* LIMITED UMF OXIDES: Include a very limited subset of oxides in UMF.  Round to hundredths of a percent.  \n",
        "\n",
        "NOTES:\n",
        "* All files have been purged of duplicate rows (based on chemical analyses)\n",
        "* Cones are Glazy ID's for cones, not actual cone numbers (e.g. \"010\").  Cone 6 = 30, Cone 10 = 34."
      ]
    },
    {
      "cell_type": "markdown",
      "metadata": {
        "id": "hy2CWZSxWu5N"
      },
      "source": [
        "FULL OXIDES:"
      ]
    },
    {
      "cell_type": "code",
      "metadata": {
        "id": "CiX2FI4gZtTt"
      },
      "source": [
        "url = 'https://github.com/derekphilipau/glazy-data/raw/master/machine-learning/data/20210409_glazes_unique_regression.csv'\n",
        "column_names = ['cone', 'SiO2', 'Al2O3', 'B2O3', 'Li2O', 'K2O', 'Na2O', 'KNaO', 'MgO', 'CaO', 'SrO', 'BaO', 'ZnO', 'PbO', 'P2O5', 'Cr2O3', 'MnO', 'MnO2', 'FeO', 'Fe2O3', 'CoO', 'NiO', 'CuO', 'Cu2O', 'TiO2', 'ZrO2', 'SnO2']\n",
        "\n",
        "raw_dataset = pd.read_csv(url, names=column_names,\n",
        "                          na_values='?', comment='\\t',\n",
        "                          sep=',', skipinitialspace=True)"
      ],
      "execution_count": null,
      "outputs": []
    },
    {
      "cell_type": "markdown",
      "metadata": {
        "id": "L_cSompwECsX"
      },
      "source": [
        "OR FULL OXIDES WITHOUT SPECIALTY GLAZES (Using this dataset for now.)"
      ]
    },
    {
      "cell_type": "code",
      "metadata": {
        "id": "WxpBUQmRD1d7"
      },
      "source": [
        "url = 'https://github.com/derekphilipau/glazy-data/raw/master/machine-learning/data/20210409_glazes_unique_regression_no_specialty.csv'\n",
        "column_names = ['cone', 'SiO2', 'Al2O3', 'B2O3', 'Li2O', 'K2O', 'Na2O', 'MgO', 'CaO', 'SrO', 'BaO', 'ZnO', 'PbO', 'P2O5', 'Cr2O3', 'MnO', 'MnO2', 'FeO', 'Fe2O3', 'CoO', 'NiO', 'CuO', 'Cu2O', 'TiO2', 'ZrO2', 'SnO2']\n",
        "\n",
        "raw_dataset = pd.read_csv(url, names=column_names,\n",
        "                          na_values='?', comment='\\t',\n",
        "                          sep=',', skipinitialspace=True)"
      ],
      "execution_count": 129,
      "outputs": []
    },
    {
      "cell_type": "markdown",
      "metadata": {
        "id": "AzmHLpeqWx4L"
      },
      "source": [
        "OR LIMITED OXIDES:"
      ]
    },
    {
      "cell_type": "code",
      "metadata": {
        "id": "Dqo-v-HqWuac"
      },
      "source": [
        "url = 'https://github.com/derekphilipau/glazy-data/raw/master/machine-learning/data/20210409_glazes_unique_regression_limited.csv'\n",
        "column_names = ['cone','SiO2','Al2O3','B2O3','Li2O','KNaO','MgO','CaO','SrO','BaO','ZnO','P2O5','MnO2','Fe2O3','TiO2']\n",
        "\n",
        "raw_dataset = pd.read_csv(url, names=column_names,\n",
        "                          na_values='?', comment='\\t',\n",
        "                          sep=',', skipinitialspace=True)"
      ],
      "execution_count": 4,
      "outputs": []
    },
    {
      "cell_type": "markdown",
      "metadata": {
        "id": "53Iwb5Y4Avj1"
      },
      "source": [
        "OR LIMITED OXIDES WITHOUT SPECIALTY GLAZES:"
      ]
    },
    {
      "cell_type": "code",
      "metadata": {
        "id": "diq9uTTkAqOy"
      },
      "source": [
        "url = 'https://github.com/derekphilipau/glazy-data/raw/master/machine-learning/data/20210409_glazes_unique_regression_limited_no_specialty.csv'\n",
        "column_names = ['cone','SiO2','Al2O3','B2O3','Li2O','KNaO','MgO','CaO','SrO','BaO','ZnO','P2O5','MnO2','Fe2O3','TiO2']\n",
        "\n",
        "raw_dataset = pd.read_csv(url, names=column_names,\n",
        "                          na_values='?', comment='\\t',\n",
        "                          sep=',', skipinitialspace=True)"
      ],
      "execution_count": 62,
      "outputs": []
    },
    {
      "cell_type": "markdown",
      "metadata": {
        "id": "9sLaCUTJc7ob"
      },
      "source": [
        "OR LIMITED UMF OXIDES:"
      ]
    },
    {
      "cell_type": "code",
      "metadata": {
        "id": "dPSeLyv2c-9U"
      },
      "source": [
        "url = 'https://github.com/derekphilipau/glazy-data/raw/master/machine-learning/data/20210409_glazes_unique_regression_limited_umf.csv'\n",
        "column_names = ['cone', 'SiO2', 'Al2O3', 'B2O3', 'R2O', 'RO']\n",
        "\n",
        "raw_dataset = pd.read_csv(url, names=column_names,\n",
        "                          na_values='?', comment='\\t',\n",
        "                          sep=',', skipinitialspace=True)"
      ],
      "execution_count": null,
      "outputs": []
    },
    {
      "cell_type": "code",
      "metadata": {
        "id": "2oY3pMPagJrO",
        "colab": {
          "base_uri": "https://localhost:8080/",
          "height": 218
        },
        "outputId": "878477d6-81af-449c-fd09-e0c4aec74f7b"
      },
      "source": [
        "dataset = raw_dataset.copy()\n",
        "dataset.tail()"
      ],
      "execution_count": 130,
      "outputs": [
        {
          "output_type": "execute_result",
          "data": {
            "text/html": [
              "<div>\n",
              "<style scoped>\n",
              "    .dataframe tbody tr th:only-of-type {\n",
              "        vertical-align: middle;\n",
              "    }\n",
              "\n",
              "    .dataframe tbody tr th {\n",
              "        vertical-align: top;\n",
              "    }\n",
              "\n",
              "    .dataframe thead th {\n",
              "        text-align: right;\n",
              "    }\n",
              "</style>\n",
              "<table border=\"1\" class=\"dataframe\">\n",
              "  <thead>\n",
              "    <tr style=\"text-align: right;\">\n",
              "      <th></th>\n",
              "      <th>cone</th>\n",
              "      <th>SiO2</th>\n",
              "      <th>Al2O3</th>\n",
              "      <th>B2O3</th>\n",
              "      <th>Li2O</th>\n",
              "      <th>K2O</th>\n",
              "      <th>Na2O</th>\n",
              "      <th>MgO</th>\n",
              "      <th>CaO</th>\n",
              "      <th>SrO</th>\n",
              "      <th>BaO</th>\n",
              "      <th>ZnO</th>\n",
              "      <th>PbO</th>\n",
              "      <th>P2O5</th>\n",
              "      <th>Cr2O3</th>\n",
              "      <th>MnO</th>\n",
              "      <th>MnO2</th>\n",
              "      <th>FeO</th>\n",
              "      <th>Fe2O3</th>\n",
              "      <th>CoO</th>\n",
              "      <th>NiO</th>\n",
              "      <th>CuO</th>\n",
              "      <th>Cu2O</th>\n",
              "      <th>TiO2</th>\n",
              "      <th>ZrO2</th>\n",
              "      <th>SnO2</th>\n",
              "    </tr>\n",
              "  </thead>\n",
              "  <tbody>\n",
              "    <tr>\n",
              "      <th>10235</th>\n",
              "      <td>8.0</td>\n",
              "      <td>50.5</td>\n",
              "      <td>8.0</td>\n",
              "      <td>14.6</td>\n",
              "      <td>7.8</td>\n",
              "      <td>1.7</td>\n",
              "      <td>8.0</td>\n",
              "      <td>1.8</td>\n",
              "      <td>7.2</td>\n",
              "      <td>0.0</td>\n",
              "      <td>0.0</td>\n",
              "      <td>0.2</td>\n",
              "      <td>0.0</td>\n",
              "      <td>0.0</td>\n",
              "      <td>0.0</td>\n",
              "      <td>0.0</td>\n",
              "      <td>0.0</td>\n",
              "      <td>0.0</td>\n",
              "      <td>0.1</td>\n",
              "      <td>0.0</td>\n",
              "      <td>0.0</td>\n",
              "      <td>0.0</td>\n",
              "      <td>0.0</td>\n",
              "      <td>0.0</td>\n",
              "      <td>0.0</td>\n",
              "      <td>0.0</td>\n",
              "    </tr>\n",
              "    <tr>\n",
              "      <th>10236</th>\n",
              "      <td>8.0</td>\n",
              "      <td>51.1</td>\n",
              "      <td>7.5</td>\n",
              "      <td>14.4</td>\n",
              "      <td>8.8</td>\n",
              "      <td>1.8</td>\n",
              "      <td>7.0</td>\n",
              "      <td>0.1</td>\n",
              "      <td>9.0</td>\n",
              "      <td>0.0</td>\n",
              "      <td>0.0</td>\n",
              "      <td>0.2</td>\n",
              "      <td>0.0</td>\n",
              "      <td>0.0</td>\n",
              "      <td>0.0</td>\n",
              "      <td>0.0</td>\n",
              "      <td>0.0</td>\n",
              "      <td>0.0</td>\n",
              "      <td>0.0</td>\n",
              "      <td>0.0</td>\n",
              "      <td>0.0</td>\n",
              "      <td>0.0</td>\n",
              "      <td>0.0</td>\n",
              "      <td>0.0</td>\n",
              "      <td>0.0</td>\n",
              "      <td>0.0</td>\n",
              "    </tr>\n",
              "    <tr>\n",
              "      <th>10237</th>\n",
              "      <td>9.0</td>\n",
              "      <td>29.0</td>\n",
              "      <td>3.0</td>\n",
              "      <td>5.0</td>\n",
              "      <td>0.0</td>\n",
              "      <td>0.0</td>\n",
              "      <td>10.4</td>\n",
              "      <td>0.0</td>\n",
              "      <td>5.3</td>\n",
              "      <td>0.0</td>\n",
              "      <td>0.0</td>\n",
              "      <td>0.0</td>\n",
              "      <td>0.0</td>\n",
              "      <td>0.0</td>\n",
              "      <td>0.0</td>\n",
              "      <td>0.0</td>\n",
              "      <td>0.0</td>\n",
              "      <td>0.0</td>\n",
              "      <td>0.0</td>\n",
              "      <td>0.0</td>\n",
              "      <td>0.0</td>\n",
              "      <td>0.0</td>\n",
              "      <td>0.0</td>\n",
              "      <td>0.0</td>\n",
              "      <td>0.0</td>\n",
              "      <td>0.0</td>\n",
              "    </tr>\n",
              "    <tr>\n",
              "      <th>10238</th>\n",
              "      <td>9.0</td>\n",
              "      <td>53.5</td>\n",
              "      <td>7.2</td>\n",
              "      <td>12.3</td>\n",
              "      <td>9.2</td>\n",
              "      <td>3.5</td>\n",
              "      <td>7.7</td>\n",
              "      <td>0.0</td>\n",
              "      <td>6.3</td>\n",
              "      <td>0.0</td>\n",
              "      <td>0.0</td>\n",
              "      <td>0.4</td>\n",
              "      <td>0.0</td>\n",
              "      <td>0.0</td>\n",
              "      <td>0.0</td>\n",
              "      <td>0.0</td>\n",
              "      <td>0.0</td>\n",
              "      <td>0.0</td>\n",
              "      <td>0.0</td>\n",
              "      <td>0.0</td>\n",
              "      <td>0.0</td>\n",
              "      <td>0.0</td>\n",
              "      <td>0.0</td>\n",
              "      <td>0.0</td>\n",
              "      <td>0.0</td>\n",
              "      <td>0.0</td>\n",
              "    </tr>\n",
              "    <tr>\n",
              "      <th>10239</th>\n",
              "      <td>9.0</td>\n",
              "      <td>53.9</td>\n",
              "      <td>3.5</td>\n",
              "      <td>13.3</td>\n",
              "      <td>9.5</td>\n",
              "      <td>1.7</td>\n",
              "      <td>10.1</td>\n",
              "      <td>0.0</td>\n",
              "      <td>6.7</td>\n",
              "      <td>0.0</td>\n",
              "      <td>0.0</td>\n",
              "      <td>0.3</td>\n",
              "      <td>0.0</td>\n",
              "      <td>0.0</td>\n",
              "      <td>0.0</td>\n",
              "      <td>0.0</td>\n",
              "      <td>0.0</td>\n",
              "      <td>0.0</td>\n",
              "      <td>0.0</td>\n",
              "      <td>0.0</td>\n",
              "      <td>0.0</td>\n",
              "      <td>0.5</td>\n",
              "      <td>0.0</td>\n",
              "      <td>0.0</td>\n",
              "      <td>0.0</td>\n",
              "      <td>0.4</td>\n",
              "    </tr>\n",
              "  </tbody>\n",
              "</table>\n",
              "</div>"
            ],
            "text/plain": [
              "       cone  SiO2  Al2O3  B2O3  Li2O  K2O  ...  NiO  CuO  Cu2O  TiO2  ZrO2  SnO2\n",
              "10235   8.0  50.5    8.0  14.6   7.8  1.7  ...  0.0  0.0   0.0   0.0   0.0   0.0\n",
              "10236   8.0  51.1    7.5  14.4   8.8  1.8  ...  0.0  0.0   0.0   0.0   0.0   0.0\n",
              "10237   9.0  29.0    3.0   5.0   0.0  0.0  ...  0.0  0.0   0.0   0.0   0.0   0.0\n",
              "10238   9.0  53.5    7.2  12.3   9.2  3.5  ...  0.0  0.0   0.0   0.0   0.0   0.0\n",
              "10239   9.0  53.9    3.5  13.3   9.5  1.7  ...  0.0  0.5   0.0   0.0   0.0   0.4\n",
              "\n",
              "[5 rows x 26 columns]"
            ]
          },
          "metadata": {
            "tags": []
          },
          "execution_count": 130
        }
      ]
    },
    {
      "cell_type": "markdown",
      "metadata": {
        "id": "3MWuJTKEDM-f"
      },
      "source": [
        "### Clean the data\n",
        "\n",
        "See if the dataset contains unknown values."
      ]
    },
    {
      "cell_type": "code",
      "metadata": {
        "id": "JEJHhN65a2VV",
        "colab": {
          "base_uri": "https://localhost:8080/"
        },
        "outputId": "b2f530c6-4af1-44df-9e6f-902e9b12b192"
      },
      "source": [
        "dataset.isna().sum()"
      ],
      "execution_count": 131,
      "outputs": [
        {
          "output_type": "execute_result",
          "data": {
            "text/plain": [
              "cone     0\n",
              "SiO2     1\n",
              "Al2O3    1\n",
              "B2O3     1\n",
              "Li2O     1\n",
              "K2O      1\n",
              "Na2O     1\n",
              "MgO      1\n",
              "CaO      1\n",
              "SrO      1\n",
              "BaO      1\n",
              "ZnO      1\n",
              "PbO      1\n",
              "P2O5     1\n",
              "Cr2O3    1\n",
              "MnO      1\n",
              "MnO2     1\n",
              "FeO      1\n",
              "Fe2O3    1\n",
              "CoO      1\n",
              "NiO      1\n",
              "CuO      1\n",
              "Cu2O     1\n",
              "TiO2     1\n",
              "ZrO2     1\n",
              "SnO2     1\n",
              "dtype: int64"
            ]
          },
          "metadata": {
            "tags": []
          },
          "execution_count": 131
        }
      ]
    },
    {
      "cell_type": "markdown",
      "metadata": {
        "id": "9UPN0KBHa_WI"
      },
      "source": [
        "Drop rows with unknown values."
      ]
    },
    {
      "cell_type": "code",
      "metadata": {
        "id": "4ZUDosChC1UN"
      },
      "source": [
        "dataset = dataset.dropna()"
      ],
      "execution_count": 132,
      "outputs": []
    },
    {
      "cell_type": "markdown",
      "metadata": {
        "id": "Cuym4yvk76vU"
      },
      "source": [
        "### Split the data into train and test\n",
        "\n",
        "Now split the dataset into a training set and a test set.\n",
        "\n",
        "Use the test set in the final evaluation of our models."
      ]
    },
    {
      "cell_type": "code",
      "metadata": {
        "id": "qn-IGhUE7_1H"
      },
      "source": [
        "train_dataset = dataset.sample(frac=0.8, random_state=0)\n",
        "test_dataset = dataset.drop(train_dataset.index)"
      ],
      "execution_count": 133,
      "outputs": []
    },
    {
      "cell_type": "code",
      "metadata": {
        "colab": {
          "base_uri": "https://localhost:8080/",
          "height": 218
        },
        "id": "w2ddSg_PMUM-",
        "outputId": "c6e07103-0b16-478f-d396-deaffee33751"
      },
      "source": [
        "train_dataset.head()"
      ],
      "execution_count": 134,
      "outputs": [
        {
          "output_type": "execute_result",
          "data": {
            "text/html": [
              "<div>\n",
              "<style scoped>\n",
              "    .dataframe tbody tr th:only-of-type {\n",
              "        vertical-align: middle;\n",
              "    }\n",
              "\n",
              "    .dataframe tbody tr th {\n",
              "        vertical-align: top;\n",
              "    }\n",
              "\n",
              "    .dataframe thead th {\n",
              "        text-align: right;\n",
              "    }\n",
              "</style>\n",
              "<table border=\"1\" class=\"dataframe\">\n",
              "  <thead>\n",
              "    <tr style=\"text-align: right;\">\n",
              "      <th></th>\n",
              "      <th>cone</th>\n",
              "      <th>SiO2</th>\n",
              "      <th>Al2O3</th>\n",
              "      <th>B2O3</th>\n",
              "      <th>Li2O</th>\n",
              "      <th>K2O</th>\n",
              "      <th>Na2O</th>\n",
              "      <th>MgO</th>\n",
              "      <th>CaO</th>\n",
              "      <th>SrO</th>\n",
              "      <th>BaO</th>\n",
              "      <th>ZnO</th>\n",
              "      <th>PbO</th>\n",
              "      <th>P2O5</th>\n",
              "      <th>Cr2O3</th>\n",
              "      <th>MnO</th>\n",
              "      <th>MnO2</th>\n",
              "      <th>FeO</th>\n",
              "      <th>Fe2O3</th>\n",
              "      <th>CoO</th>\n",
              "      <th>NiO</th>\n",
              "      <th>CuO</th>\n",
              "      <th>Cu2O</th>\n",
              "      <th>TiO2</th>\n",
              "      <th>ZrO2</th>\n",
              "      <th>SnO2</th>\n",
              "    </tr>\n",
              "  </thead>\n",
              "  <tbody>\n",
              "    <tr>\n",
              "      <th>5508</th>\n",
              "      <td>30.5</td>\n",
              "      <td>54.6</td>\n",
              "      <td>6.4</td>\n",
              "      <td>3.8</td>\n",
              "      <td>0.0</td>\n",
              "      <td>0.2</td>\n",
              "      <td>3.5</td>\n",
              "      <td>7.9</td>\n",
              "      <td>12.1</td>\n",
              "      <td>0.0</td>\n",
              "      <td>0.0</td>\n",
              "      <td>0.0</td>\n",
              "      <td>0.0</td>\n",
              "      <td>0.0</td>\n",
              "      <td>0.0</td>\n",
              "      <td>0.0</td>\n",
              "      <td>0.0</td>\n",
              "      <td>0.0</td>\n",
              "      <td>0.7</td>\n",
              "      <td>0.0</td>\n",
              "      <td>0.0</td>\n",
              "      <td>0.0</td>\n",
              "      <td>0.0</td>\n",
              "      <td>10.7</td>\n",
              "      <td>0.0</td>\n",
              "      <td>0.0</td>\n",
              "    </tr>\n",
              "    <tr>\n",
              "      <th>4127</th>\n",
              "      <td>30.0</td>\n",
              "      <td>63.2</td>\n",
              "      <td>10.3</td>\n",
              "      <td>2.0</td>\n",
              "      <td>0.0</td>\n",
              "      <td>1.2</td>\n",
              "      <td>4.7</td>\n",
              "      <td>0.1</td>\n",
              "      <td>14.0</td>\n",
              "      <td>0.0</td>\n",
              "      <td>0.0</td>\n",
              "      <td>4.5</td>\n",
              "      <td>0.0</td>\n",
              "      <td>0.0</td>\n",
              "      <td>0.0</td>\n",
              "      <td>0.0</td>\n",
              "      <td>0.0</td>\n",
              "      <td>0.0</td>\n",
              "      <td>0.0</td>\n",
              "      <td>0.0</td>\n",
              "      <td>0.0</td>\n",
              "      <td>0.0</td>\n",
              "      <td>0.0</td>\n",
              "      <td>0.0</td>\n",
              "      <td>0.0</td>\n",
              "      <td>0.0</td>\n",
              "    </tr>\n",
              "    <tr>\n",
              "      <th>2412</th>\n",
              "      <td>29.5</td>\n",
              "      <td>69.2</td>\n",
              "      <td>4.5</td>\n",
              "      <td>0.0</td>\n",
              "      <td>0.0</td>\n",
              "      <td>3.8</td>\n",
              "      <td>0.0</td>\n",
              "      <td>0.0</td>\n",
              "      <td>21.1</td>\n",
              "      <td>0.0</td>\n",
              "      <td>0.0</td>\n",
              "      <td>0.0</td>\n",
              "      <td>0.0</td>\n",
              "      <td>0.0</td>\n",
              "      <td>0.0</td>\n",
              "      <td>0.0</td>\n",
              "      <td>0.0</td>\n",
              "      <td>0.0</td>\n",
              "      <td>1.3</td>\n",
              "      <td>0.0</td>\n",
              "      <td>0.0</td>\n",
              "      <td>0.0</td>\n",
              "      <td>0.0</td>\n",
              "      <td>0.1</td>\n",
              "      <td>0.0</td>\n",
              "      <td>0.0</td>\n",
              "    </tr>\n",
              "    <tr>\n",
              "      <th>6403</th>\n",
              "      <td>32.0</td>\n",
              "      <td>63.6</td>\n",
              "      <td>7.6</td>\n",
              "      <td>0.0</td>\n",
              "      <td>0.0</td>\n",
              "      <td>3.0</td>\n",
              "      <td>1.3</td>\n",
              "      <td>0.1</td>\n",
              "      <td>22.3</td>\n",
              "      <td>0.0</td>\n",
              "      <td>0.0</td>\n",
              "      <td>0.0</td>\n",
              "      <td>0.0</td>\n",
              "      <td>1.9</td>\n",
              "      <td>0.0</td>\n",
              "      <td>0.0</td>\n",
              "      <td>0.0</td>\n",
              "      <td>0.0</td>\n",
              "      <td>0.1</td>\n",
              "      <td>0.0</td>\n",
              "      <td>0.0</td>\n",
              "      <td>0.0</td>\n",
              "      <td>0.0</td>\n",
              "      <td>0.2</td>\n",
              "      <td>0.0</td>\n",
              "      <td>0.0</td>\n",
              "    </tr>\n",
              "    <tr>\n",
              "      <th>9626</th>\n",
              "      <td>34.0</td>\n",
              "      <td>74.2</td>\n",
              "      <td>8.0</td>\n",
              "      <td>0.0</td>\n",
              "      <td>0.0</td>\n",
              "      <td>1.4</td>\n",
              "      <td>1.5</td>\n",
              "      <td>1.8</td>\n",
              "      <td>10.4</td>\n",
              "      <td>0.0</td>\n",
              "      <td>0.0</td>\n",
              "      <td>0.8</td>\n",
              "      <td>0.0</td>\n",
              "      <td>0.0</td>\n",
              "      <td>0.0</td>\n",
              "      <td>0.0</td>\n",
              "      <td>0.0</td>\n",
              "      <td>0.0</td>\n",
              "      <td>0.1</td>\n",
              "      <td>1.7</td>\n",
              "      <td>0.0</td>\n",
              "      <td>0.0</td>\n",
              "      <td>0.0</td>\n",
              "      <td>0.1</td>\n",
              "      <td>0.0</td>\n",
              "      <td>0.0</td>\n",
              "    </tr>\n",
              "  </tbody>\n",
              "</table>\n",
              "</div>"
            ],
            "text/plain": [
              "      cone  SiO2  Al2O3  B2O3  Li2O  K2O  ...  NiO  CuO  Cu2O  TiO2  ZrO2  SnO2\n",
              "5508  30.5  54.6    6.4   3.8   0.0  0.2  ...  0.0  0.0   0.0  10.7   0.0   0.0\n",
              "4127  30.0  63.2   10.3   2.0   0.0  1.2  ...  0.0  0.0   0.0   0.0   0.0   0.0\n",
              "2412  29.5  69.2    4.5   0.0   0.0  3.8  ...  0.0  0.0   0.0   0.1   0.0   0.0\n",
              "6403  32.0  63.6    7.6   0.0   0.0  3.0  ...  0.0  0.0   0.0   0.2   0.0   0.0\n",
              "9626  34.0  74.2    8.0   0.0   0.0  1.4  ...  0.0  0.0   0.0   0.1   0.0   0.0\n",
              "\n",
              "[5 rows x 26 columns]"
            ]
          },
          "metadata": {
            "tags": []
          },
          "execution_count": 134
        }
      ]
    },
    {
      "cell_type": "markdown",
      "metadata": {
        "id": "J4ubs136WLNp"
      },
      "source": [
        "### Inspect the data\n",
        "\n",
        "Have a quick look at the joint distribution of a few pairs of columns from the training set.\n",
        "\n",
        "Is firing temperature (cone) a function of the other parameters?"
      ]
    },
    {
      "cell_type": "code",
      "metadata": {
        "colab": {
          "base_uri": "https://localhost:8080/",
          "height": 726
        },
        "id": "qNoH_ZvxHxOg",
        "outputId": "e5b31bcc-5739-49e9-f140-0ab9bbbfe07d"
      },
      "source": [
        "g = sns.pairplot(train_dataset[['cone', 'SiO2', 'Al2O3', 'B2O3']], vars=['cone', 'SiO2', 'Al2O3', 'B2O3'], diag_kind='kde')"
      ],
      "execution_count": 135,
      "outputs": [
        {
          "output_type": "display_data",
          "data": {
            "image/png": "[encoded data removed]",
            "text/plain": [
              "<Figure size 720x720 with 20 Axes>"
            ]
          },
          "metadata": {
            "tags": [],
            "needs_background": "light"
          }
        }
      ]
    },
    {
      "cell_type": "markdown",
      "metadata": {
        "id": "gavKO_6DWRMP"
      },
      "source": [
        "Also look at the overall statistics, note how each feature covers a very different range:"
      ]
    },
    {
      "cell_type": "code",
      "metadata": {
        "id": "yi2FzC3T21jR",
        "colab": {
          "base_uri": "https://localhost:8080/",
          "height": 828
        },
        "outputId": "a2602015-6ee0-42c2-b863-a4f11dd026e1"
      },
      "source": [
        "train_dataset.describe().transpose()"
      ],
      "execution_count": 136,
      "outputs": [
        {
          "output_type": "execute_result",
          "data": {
            "text/html": [
              "<div>\n",
              "<style scoped>\n",
              "    .dataframe tbody tr th:only-of-type {\n",
              "        vertical-align: middle;\n",
              "    }\n",
              "\n",
              "    .dataframe tbody tr th {\n",
              "        vertical-align: top;\n",
              "    }\n",
              "\n",
              "    .dataframe thead th {\n",
              "        text-align: right;\n",
              "    }\n",
              "</style>\n",
              "<table border=\"1\" class=\"dataframe\">\n",
              "  <thead>\n",
              "    <tr style=\"text-align: right;\">\n",
              "      <th></th>\n",
              "      <th>count</th>\n",
              "      <th>mean</th>\n",
              "      <th>std</th>\n",
              "      <th>min</th>\n",
              "      <th>25%</th>\n",
              "      <th>50%</th>\n",
              "      <th>75%</th>\n",
              "      <th>max</th>\n",
              "    </tr>\n",
              "  </thead>\n",
              "  <tbody>\n",
              "    <tr>\n",
              "      <th>cone</th>\n",
              "      <td>8191.0</td>\n",
              "      <td>30.307044</td>\n",
              "      <td>4.169534</td>\n",
              "      <td>5.0</td>\n",
              "      <td>30.0</td>\n",
              "      <td>30.0</td>\n",
              "      <td>33.5</td>\n",
              "      <td>37.5</td>\n",
              "    </tr>\n",
              "    <tr>\n",
              "      <th>SiO2</th>\n",
              "      <td>8191.0</td>\n",
              "      <td>62.007215</td>\n",
              "      <td>8.875657</td>\n",
              "      <td>0.0</td>\n",
              "      <td>58.1</td>\n",
              "      <td>63.1</td>\n",
              "      <td>67.6</td>\n",
              "      <td>84.8</td>\n",
              "    </tr>\n",
              "    <tr>\n",
              "      <th>Al2O3</th>\n",
              "      <td>8191.0</td>\n",
              "      <td>8.518203</td>\n",
              "      <td>3.352368</td>\n",
              "      <td>0.0</td>\n",
              "      <td>6.5</td>\n",
              "      <td>8.0</td>\n",
              "      <td>10.2</td>\n",
              "      <td>66.3</td>\n",
              "    </tr>\n",
              "    <tr>\n",
              "      <th>B2O3</th>\n",
              "      <td>8191.0</td>\n",
              "      <td>2.965535</td>\n",
              "      <td>4.701345</td>\n",
              "      <td>0.0</td>\n",
              "      <td>0.0</td>\n",
              "      <td>1.1</td>\n",
              "      <td>4.2</td>\n",
              "      <td>45.7</td>\n",
              "    </tr>\n",
              "    <tr>\n",
              "      <th>Li2O</th>\n",
              "      <td>8191.0</td>\n",
              "      <td>0.875595</td>\n",
              "      <td>3.070406</td>\n",
              "      <td>-6.2</td>\n",
              "      <td>0.0</td>\n",
              "      <td>0.0</td>\n",
              "      <td>0.0</td>\n",
              "      <td>70.3</td>\n",
              "    </tr>\n",
              "    <tr>\n",
              "      <th>K2O</th>\n",
              "      <td>8191.0</td>\n",
              "      <td>2.381138</td>\n",
              "      <td>2.072502</td>\n",
              "      <td>0.0</td>\n",
              "      <td>1.0</td>\n",
              "      <td>1.9</td>\n",
              "      <td>3.2</td>\n",
              "      <td>18.3</td>\n",
              "    </tr>\n",
              "    <tr>\n",
              "      <th>Na2O</th>\n",
              "      <td>8191.0</td>\n",
              "      <td>3.515944</td>\n",
              "      <td>2.981959</td>\n",
              "      <td>0.0</td>\n",
              "      <td>1.6</td>\n",
              "      <td>2.9</td>\n",
              "      <td>4.9</td>\n",
              "      <td>100.0</td>\n",
              "    </tr>\n",
              "    <tr>\n",
              "      <th>MgO</th>\n",
              "      <td>8191.0</td>\n",
              "      <td>2.836357</td>\n",
              "      <td>3.833379</td>\n",
              "      <td>0.0</td>\n",
              "      <td>0.1</td>\n",
              "      <td>1.1</td>\n",
              "      <td>4.6</td>\n",
              "      <td>55.8</td>\n",
              "    </tr>\n",
              "    <tr>\n",
              "      <th>CaO</th>\n",
              "      <td>8191.0</td>\n",
              "      <td>10.898230</td>\n",
              "      <td>6.084792</td>\n",
              "      <td>0.0</td>\n",
              "      <td>7.3</td>\n",
              "      <td>10.8</td>\n",
              "      <td>14.1</td>\n",
              "      <td>65.7</td>\n",
              "    </tr>\n",
              "    <tr>\n",
              "      <th>SrO</th>\n",
              "      <td>8191.0</td>\n",
              "      <td>0.532853</td>\n",
              "      <td>2.340943</td>\n",
              "      <td>0.0</td>\n",
              "      <td>0.0</td>\n",
              "      <td>0.0</td>\n",
              "      <td>0.0</td>\n",
              "      <td>34.4</td>\n",
              "    </tr>\n",
              "    <tr>\n",
              "      <th>BaO</th>\n",
              "      <td>8191.0</td>\n",
              "      <td>0.626724</td>\n",
              "      <td>2.581824</td>\n",
              "      <td>0.0</td>\n",
              "      <td>0.0</td>\n",
              "      <td>0.0</td>\n",
              "      <td>0.0</td>\n",
              "      <td>40.5</td>\n",
              "    </tr>\n",
              "    <tr>\n",
              "      <th>ZnO</th>\n",
              "      <td>8191.0</td>\n",
              "      <td>1.373202</td>\n",
              "      <td>3.737628</td>\n",
              "      <td>0.0</td>\n",
              "      <td>0.0</td>\n",
              "      <td>0.0</td>\n",
              "      <td>0.0</td>\n",
              "      <td>81.1</td>\n",
              "    </tr>\n",
              "    <tr>\n",
              "      <th>PbO</th>\n",
              "      <td>8191.0</td>\n",
              "      <td>0.110817</td>\n",
              "      <td>1.793972</td>\n",
              "      <td>0.0</td>\n",
              "      <td>0.0</td>\n",
              "      <td>0.0</td>\n",
              "      <td>0.0</td>\n",
              "      <td>54.4</td>\n",
              "    </tr>\n",
              "    <tr>\n",
              "      <th>P2O5</th>\n",
              "      <td>8191.0</td>\n",
              "      <td>0.180308</td>\n",
              "      <td>0.700897</td>\n",
              "      <td>0.0</td>\n",
              "      <td>0.0</td>\n",
              "      <td>0.0</td>\n",
              "      <td>0.0</td>\n",
              "      <td>13.8</td>\n",
              "    </tr>\n",
              "    <tr>\n",
              "      <th>Cr2O3</th>\n",
              "      <td>8191.0</td>\n",
              "      <td>0.028739</td>\n",
              "      <td>0.217802</td>\n",
              "      <td>0.0</td>\n",
              "      <td>0.0</td>\n",
              "      <td>0.0</td>\n",
              "      <td>0.0</td>\n",
              "      <td>5.9</td>\n",
              "    </tr>\n",
              "    <tr>\n",
              "      <th>MnO</th>\n",
              "      <td>8191.0</td>\n",
              "      <td>0.033341</td>\n",
              "      <td>0.645899</td>\n",
              "      <td>0.0</td>\n",
              "      <td>0.0</td>\n",
              "      <td>0.0</td>\n",
              "      <td>0.0</td>\n",
              "      <td>50.2</td>\n",
              "    </tr>\n",
              "    <tr>\n",
              "      <th>MnO2</th>\n",
              "      <td>8191.0</td>\n",
              "      <td>0.128837</td>\n",
              "      <td>1.068491</td>\n",
              "      <td>0.0</td>\n",
              "      <td>0.0</td>\n",
              "      <td>0.0</td>\n",
              "      <td>0.0</td>\n",
              "      <td>28.3</td>\n",
              "    </tr>\n",
              "    <tr>\n",
              "      <th>FeO</th>\n",
              "      <td>8191.0</td>\n",
              "      <td>0.017238</td>\n",
              "      <td>0.207016</td>\n",
              "      <td>0.0</td>\n",
              "      <td>0.0</td>\n",
              "      <td>0.0</td>\n",
              "      <td>0.0</td>\n",
              "      <td>8.9</td>\n",
              "    </tr>\n",
              "    <tr>\n",
              "      <th>Fe2O3</th>\n",
              "      <td>8191.0</td>\n",
              "      <td>0.778196</td>\n",
              "      <td>1.555345</td>\n",
              "      <td>0.0</td>\n",
              "      <td>0.1</td>\n",
              "      <td>0.1</td>\n",
              "      <td>0.7</td>\n",
              "      <td>40.8</td>\n",
              "    </tr>\n",
              "    <tr>\n",
              "      <th>CoO</th>\n",
              "      <td>8191.0</td>\n",
              "      <td>0.180564</td>\n",
              "      <td>0.603470</td>\n",
              "      <td>0.0</td>\n",
              "      <td>0.0</td>\n",
              "      <td>0.0</td>\n",
              "      <td>0.0</td>\n",
              "      <td>15.8</td>\n",
              "    </tr>\n",
              "    <tr>\n",
              "      <th>NiO</th>\n",
              "      <td>8191.0</td>\n",
              "      <td>0.027640</td>\n",
              "      <td>0.278572</td>\n",
              "      <td>0.0</td>\n",
              "      <td>0.0</td>\n",
              "      <td>0.0</td>\n",
              "      <td>0.0</td>\n",
              "      <td>9.7</td>\n",
              "    </tr>\n",
              "    <tr>\n",
              "      <th>CuO</th>\n",
              "      <td>8191.0</td>\n",
              "      <td>0.365169</td>\n",
              "      <td>1.670108</td>\n",
              "      <td>0.0</td>\n",
              "      <td>0.0</td>\n",
              "      <td>0.0</td>\n",
              "      <td>0.0</td>\n",
              "      <td>79.6</td>\n",
              "    </tr>\n",
              "    <tr>\n",
              "      <th>Cu2O</th>\n",
              "      <td>8191.0</td>\n",
              "      <td>0.001612</td>\n",
              "      <td>0.071200</td>\n",
              "      <td>0.0</td>\n",
              "      <td>0.0</td>\n",
              "      <td>0.0</td>\n",
              "      <td>0.0</td>\n",
              "      <td>5.3</td>\n",
              "    </tr>\n",
              "    <tr>\n",
              "      <th>TiO2</th>\n",
              "      <td>8191.0</td>\n",
              "      <td>0.951093</td>\n",
              "      <td>2.374942</td>\n",
              "      <td>0.0</td>\n",
              "      <td>0.0</td>\n",
              "      <td>0.1</td>\n",
              "      <td>0.3</td>\n",
              "      <td>90.4</td>\n",
              "    </tr>\n",
              "    <tr>\n",
              "      <th>ZrO2</th>\n",
              "      <td>8191.0</td>\n",
              "      <td>0.326053</td>\n",
              "      <td>1.229537</td>\n",
              "      <td>0.0</td>\n",
              "      <td>0.0</td>\n",
              "      <td>0.0</td>\n",
              "      <td>0.0</td>\n",
              "      <td>27.4</td>\n",
              "    </tr>\n",
              "    <tr>\n",
              "      <th>SnO2</th>\n",
              "      <td>8191.0</td>\n",
              "      <td>0.238970</td>\n",
              "      <td>1.031606</td>\n",
              "      <td>0.0</td>\n",
              "      <td>0.0</td>\n",
              "      <td>0.0</td>\n",
              "      <td>0.0</td>\n",
              "      <td>48.4</td>\n",
              "    </tr>\n",
              "  </tbody>\n",
              "</table>\n",
              "</div>"
            ],
            "text/plain": [
              "        count       mean       std  min   25%   50%   75%    max\n",
              "cone   8191.0  30.307044  4.169534  5.0  30.0  30.0  33.5   37.5\n",
              "SiO2   8191.0  62.007215  8.875657  0.0  58.1  63.1  67.6   84.8\n",
              "Al2O3  8191.0   8.518203  3.352368  0.0   6.5   8.0  10.2   66.3\n",
              "B2O3   8191.0   2.965535  4.701345  0.0   0.0   1.1   4.2   45.7\n",
              "Li2O   8191.0   0.875595  3.070406 -6.2   0.0   0.0   0.0   70.3\n",
              "K2O    8191.0   2.381138  2.072502  0.0   1.0   1.9   3.2   18.3\n",
              "Na2O   8191.0   3.515944  2.981959  0.0   1.6   2.9   4.9  100.0\n",
              "MgO    8191.0   2.836357  3.833379  0.0   0.1   1.1   4.6   55.8\n",
              "CaO    8191.0  10.898230  6.084792  0.0   7.3  10.8  14.1   65.7\n",
              "SrO    8191.0   0.532853  2.340943  0.0   0.0   0.0   0.0   34.4\n",
              "BaO    8191.0   0.626724  2.581824  0.0   0.0   0.0   0.0   40.5\n",
              "ZnO    8191.0   1.373202  3.737628  0.0   0.0   0.0   0.0   81.1\n",
              "PbO    8191.0   0.110817  1.793972  0.0   0.0   0.0   0.0   54.4\n",
              "P2O5   8191.0   0.180308  0.700897  0.0   0.0   0.0   0.0   13.8\n",
              "Cr2O3  8191.0   0.028739  0.217802  0.0   0.0   0.0   0.0    5.9\n",
              "MnO    8191.0   0.033341  0.645899  0.0   0.0   0.0   0.0   50.2\n",
              "MnO2   8191.0   0.128837  1.068491  0.0   0.0   0.0   0.0   28.3\n",
              "FeO    8191.0   0.017238  0.207016  0.0   0.0   0.0   0.0    8.9\n",
              "Fe2O3  8191.0   0.778196  1.555345  0.0   0.1   0.1   0.7   40.8\n",
              "CoO    8191.0   0.180564  0.603470  0.0   0.0   0.0   0.0   15.8\n",
              "NiO    8191.0   0.027640  0.278572  0.0   0.0   0.0   0.0    9.7\n",
              "CuO    8191.0   0.365169  1.670108  0.0   0.0   0.0   0.0   79.6\n",
              "Cu2O   8191.0   0.001612  0.071200  0.0   0.0   0.0   0.0    5.3\n",
              "TiO2   8191.0   0.951093  2.374942  0.0   0.0   0.1   0.3   90.4\n",
              "ZrO2   8191.0   0.326053  1.229537  0.0   0.0   0.0   0.0   27.4\n",
              "SnO2   8191.0   0.238970  1.031606  0.0   0.0   0.0   0.0   48.4"
            ]
          },
          "metadata": {
            "tags": []
          },
          "execution_count": 136
        }
      ]
    },
    {
      "cell_type": "markdown",
      "metadata": {
        "id": "Db7Auq1yXUvh"
      },
      "source": [
        "### Split features from labels\n",
        "\n",
        "Separate the target value, the \"label\", from the features. This label is the value that you will train the model to predict."
      ]
    },
    {
      "cell_type": "code",
      "metadata": {
        "id": "t2sluJdCW7jN"
      },
      "source": [
        "train_features = train_dataset.copy()\n",
        "test_features = test_dataset.copy()\n",
        "\n",
        "train_labels = train_features.pop('cone')\n",
        "test_labels = test_features.pop('cone')"
      ],
      "execution_count": 137,
      "outputs": []
    },
    {
      "cell_type": "markdown",
      "metadata": {
        "id": "mRklxK5s388r"
      },
      "source": [
        "## Normalization\n",
        "\n",
        "In the table of statistics it's easy to see how different the ranges of each feature are."
      ]
    },
    {
      "cell_type": "code",
      "metadata": {
        "id": "IcmY6lKKbkw8",
        "colab": {
          "base_uri": "https://localhost:8080/",
          "height": 828
        },
        "outputId": "923fd064-a37e-4c7c-95e1-bd901554f1b2"
      },
      "source": [
        "train_dataset.describe().transpose()[['mean', 'std']]"
      ],
      "execution_count": 138,
      "outputs": [
        {
          "output_type": "execute_result",
          "data": {
            "text/html": [
              "<div>\n",
              "<style scoped>\n",
              "    .dataframe tbody tr th:only-of-type {\n",
              "        vertical-align: middle;\n",
              "    }\n",
              "\n",
              "    .dataframe tbody tr th {\n",
              "        vertical-align: top;\n",
              "    }\n",
              "\n",
              "    .dataframe thead th {\n",
              "        text-align: right;\n",
              "    }\n",
              "</style>\n",
              "<table border=\"1\" class=\"dataframe\">\n",
              "  <thead>\n",
              "    <tr style=\"text-align: right;\">\n",
              "      <th></th>\n",
              "      <th>mean</th>\n",
              "      <th>std</th>\n",
              "    </tr>\n",
              "  </thead>\n",
              "  <tbody>\n",
              "    <tr>\n",
              "      <th>cone</th>\n",
              "      <td>30.307044</td>\n",
              "      <td>4.169534</td>\n",
              "    </tr>\n",
              "    <tr>\n",
              "      <th>SiO2</th>\n",
              "      <td>62.007215</td>\n",
              "      <td>8.875657</td>\n",
              "    </tr>\n",
              "    <tr>\n",
              "      <th>Al2O3</th>\n",
              "      <td>8.518203</td>\n",
              "      <td>3.352368</td>\n",
              "    </tr>\n",
              "    <tr>\n",
              "      <th>B2O3</th>\n",
              "      <td>2.965535</td>\n",
              "      <td>4.701345</td>\n",
              "    </tr>\n",
              "    <tr>\n",
              "      <th>Li2O</th>\n",
              "      <td>0.875595</td>\n",
              "      <td>3.070406</td>\n",
              "    </tr>\n",
              "    <tr>\n",
              "      <th>K2O</th>\n",
              "      <td>2.381138</td>\n",
              "      <td>2.072502</td>\n",
              "    </tr>\n",
              "    <tr>\n",
              "      <th>Na2O</th>\n",
              "      <td>3.515944</td>\n",
              "      <td>2.981959</td>\n",
              "    </tr>\n",
              "    <tr>\n",
              "      <th>MgO</th>\n",
              "      <td>2.836357</td>\n",
              "      <td>3.833379</td>\n",
              "    </tr>\n",
              "    <tr>\n",
              "      <th>CaO</th>\n",
              "      <td>10.898230</td>\n",
              "      <td>6.084792</td>\n",
              "    </tr>\n",
              "    <tr>\n",
              "      <th>SrO</th>\n",
              "      <td>0.532853</td>\n",
              "      <td>2.340943</td>\n",
              "    </tr>\n",
              "    <tr>\n",
              "      <th>BaO</th>\n",
              "      <td>0.626724</td>\n",
              "      <td>2.581824</td>\n",
              "    </tr>\n",
              "    <tr>\n",
              "      <th>ZnO</th>\n",
              "      <td>1.373202</td>\n",
              "      <td>3.737628</td>\n",
              "    </tr>\n",
              "    <tr>\n",
              "      <th>PbO</th>\n",
              "      <td>0.110817</td>\n",
              "      <td>1.793972</td>\n",
              "    </tr>\n",
              "    <tr>\n",
              "      <th>P2O5</th>\n",
              "      <td>0.180308</td>\n",
              "      <td>0.700897</td>\n",
              "    </tr>\n",
              "    <tr>\n",
              "      <th>Cr2O3</th>\n",
              "      <td>0.028739</td>\n",
              "      <td>0.217802</td>\n",
              "    </tr>\n",
              "    <tr>\n",
              "      <th>MnO</th>\n",
              "      <td>0.033341</td>\n",
              "      <td>0.645899</td>\n",
              "    </tr>\n",
              "    <tr>\n",
              "      <th>MnO2</th>\n",
              "      <td>0.128837</td>\n",
              "      <td>1.068491</td>\n",
              "    </tr>\n",
              "    <tr>\n",
              "      <th>FeO</th>\n",
              "      <td>0.017238</td>\n",
              "      <td>0.207016</td>\n",
              "    </tr>\n",
              "    <tr>\n",
              "      <th>Fe2O3</th>\n",
              "      <td>0.778196</td>\n",
              "      <td>1.555345</td>\n",
              "    </tr>\n",
              "    <tr>\n",
              "      <th>CoO</th>\n",
              "      <td>0.180564</td>\n",
              "      <td>0.603470</td>\n",
              "    </tr>\n",
              "    <tr>\n",
              "      <th>NiO</th>\n",
              "      <td>0.027640</td>\n",
              "      <td>0.278572</td>\n",
              "    </tr>\n",
              "    <tr>\n",
              "      <th>CuO</th>\n",
              "      <td>0.365169</td>\n",
              "      <td>1.670108</td>\n",
              "    </tr>\n",
              "    <tr>\n",
              "      <th>Cu2O</th>\n",
              "      <td>0.001612</td>\n",
              "      <td>0.071200</td>\n",
              "    </tr>\n",
              "    <tr>\n",
              "      <th>TiO2</th>\n",
              "      <td>0.951093</td>\n",
              "      <td>2.374942</td>\n",
              "    </tr>\n",
              "    <tr>\n",
              "      <th>ZrO2</th>\n",
              "      <td>0.326053</td>\n",
              "      <td>1.229537</td>\n",
              "    </tr>\n",
              "    <tr>\n",
              "      <th>SnO2</th>\n",
              "      <td>0.238970</td>\n",
              "      <td>1.031606</td>\n",
              "    </tr>\n",
              "  </tbody>\n",
              "</table>\n",
              "</div>"
            ],
            "text/plain": [
              "            mean       std\n",
              "cone   30.307044  4.169534\n",
              "SiO2   62.007215  8.875657\n",
              "Al2O3   8.518203  3.352368\n",
              "B2O3    2.965535  4.701345\n",
              "Li2O    0.875595  3.070406\n",
              "K2O     2.381138  2.072502\n",
              "Na2O    3.515944  2.981959\n",
              "MgO     2.836357  3.833379\n",
              "CaO    10.898230  6.084792\n",
              "SrO     0.532853  2.340943\n",
              "BaO     0.626724  2.581824\n",
              "ZnO     1.373202  3.737628\n",
              "PbO     0.110817  1.793972\n",
              "P2O5    0.180308  0.700897\n",
              "Cr2O3   0.028739  0.217802\n",
              "MnO     0.033341  0.645899\n",
              "MnO2    0.128837  1.068491\n",
              "FeO     0.017238  0.207016\n",
              "Fe2O3   0.778196  1.555345\n",
              "CoO     0.180564  0.603470\n",
              "NiO     0.027640  0.278572\n",
              "CuO     0.365169  1.670108\n",
              "Cu2O    0.001612  0.071200\n",
              "TiO2    0.951093  2.374942\n",
              "ZrO2    0.326053  1.229537\n",
              "SnO2    0.238970  1.031606"
            ]
          },
          "metadata": {
            "tags": []
          },
          "execution_count": 138
        }
      ]
    },
    {
      "cell_type": "markdown",
      "metadata": {
        "id": "-ywmerQ6dSox"
      },
      "source": [
        "It is good practice to normalize features that use different scales and ranges. \n",
        "\n",
        "One reason this is important is because the features are multiplied by the model weights. So the scale of the outputs and the scale of the gradients are affected by the scale of the inputs. \n",
        "\n",
        "Although a model *might* converge without feature normalization, normalization makes training much more stable. "
      ]
    },
    {
      "cell_type": "markdown",
      "metadata": {
        "id": "aFJ6ISropeoo"
      },
      "source": [
        "### The Normalization layer\n",
        "The `preprocessing.Normalization` layer is a clean and simple way to build that preprocessing into your model.\n",
        "\n",
        "The first step is to create the layer:"
      ]
    },
    {
      "cell_type": "code",
      "metadata": {
        "id": "JlC5ooJrgjQF"
      },
      "source": [
        "normalizer = preprocessing.Normalization()"
      ],
      "execution_count": 139,
      "outputs": []
    },
    {
      "cell_type": "markdown",
      "metadata": {
        "id": "XYA2Ap6nVOha"
      },
      "source": [
        "Then `.adapt()` it to the data:"
      ]
    },
    {
      "cell_type": "code",
      "metadata": {
        "id": "CrBbbjbwV91f"
      },
      "source": [
        "normalizer.adapt(np.array(train_features))"
      ],
      "execution_count": 140,
      "outputs": []
    },
    {
      "cell_type": "markdown",
      "metadata": {
        "id": "oZccMR5yV9YV"
      },
      "source": [
        "This calculates the mean and variance, and stores them in the layer. "
      ]
    },
    {
      "cell_type": "code",
      "metadata": {
        "id": "GGn-ukwxSPtx",
        "colab": {
          "base_uri": "https://localhost:8080/"
        },
        "outputId": "d15a3bc0-ca94-4243-fd7f-f7f9b2d7d9b0"
      },
      "source": [
        "print(normalizer.mean.numpy())"
      ],
      "execution_count": 141,
      "outputs": [
        {
          "output_type": "stream",
          "text": [
            "[62.007  8.518  2.966  0.876  2.381  3.516  2.836 10.898  0.533  0.627\n",
            "  1.373  0.111  0.18   0.029  0.033  0.129  0.017  0.778  0.181  0.028\n",
            "  0.365  0.002  0.951  0.326  0.239]\n"
          ],
          "name": "stdout"
        }
      ]
    },
    {
      "cell_type": "markdown",
      "metadata": {
        "id": "oGWKaF9GSRuN"
      },
      "source": [
        "When the layer is called it returns the input data, with each feature independently normalized:"
      ]
    },
    {
      "cell_type": "code",
      "metadata": {
        "id": "2l7zFL_XWIRu",
        "colab": {
          "base_uri": "https://localhost:8080/"
        },
        "outputId": "b0542412-a770-47d9-b641-75f0908dc344"
      },
      "source": [
        "first = np.array(train_features[:1])\n",
        "\n",
        "with np.printoptions(precision=2, suppress=True):\n",
        "  print('First example:', first)\n",
        "  print()\n",
        "  print('Normalized:', normalizer(first).numpy())"
      ],
      "execution_count": 142,
      "outputs": [
        {
          "output_type": "stream",
          "text": [
            "First example: [[54.6  6.4  3.8  0.   0.2  3.5  7.9 12.1  0.   0.   0.   0.   0.   0.\n",
            "   0.   0.   0.   0.7  0.   0.   0.   0.  10.7  0.   0. ]]\n",
            "\n",
            "Normalized: [[-0.83 -0.63  0.18 -0.29 -1.05 -0.01  1.32  0.2  -0.23 -0.24 -0.37 -0.06\n",
            "  -0.26 -0.13 -0.05 -0.12 -0.08 -0.05 -0.3  -0.1  -0.22 -0.02  4.11 -0.27\n",
            "  -0.23]]\n"
          ],
          "name": "stdout"
        }
      ]
    },
    {
      "cell_type": "markdown",
      "metadata": {
        "id": "6o3CrycBXA2s"
      },
      "source": [
        "## Linear regression\n",
        "\n",
        "Before building a DNN model, start with a linear regression."
      ]
    },
    {
      "cell_type": "markdown",
      "metadata": {
        "id": "lFby9n0tnHkw"
      },
      "source": [
        "### One Variable\n",
        "\n",
        "Start with a single-variable linear regression, to predict `cone` from `SiO2`.\n",
        "\n",
        "Training a model with `tf.keras` typically starts by defining the model architecture.\n",
        "\n",
        "In this case use a `keras.Sequential` model. This model represents a sequence of steps. In this case there are two steps:\n",
        "\n",
        "* Normalize the input `SiO2`.\n",
        "* Apply a linear transformation ($y = mx+b$) to produce 1 output using `layers.Dense`.\n",
        "\n",
        "The number of _inputs_ can either be set by the `input_shape` argument, or automatically when the model is run for the first time."
      ]
    },
    {
      "cell_type": "markdown",
      "metadata": {
        "id": "Xp3gAFn3TPv8"
      },
      "source": [
        "First create the SiO2 `Normalization` layer:"
      ]
    },
    {
      "cell_type": "code",
      "metadata": {
        "id": "1gJAy0fKs1TS"
      },
      "source": [
        "SiO2 = np.array(train_features['SiO2'])\n",
        "\n",
        "SiO2_normalizer = preprocessing.Normalization(input_shape=[1,])\n",
        "SiO2_normalizer.adapt(SiO2)"
      ],
      "execution_count": 143,
      "outputs": []
    },
    {
      "cell_type": "markdown",
      "metadata": {
        "id": "4NVlHJY2TWlC"
      },
      "source": [
        "Build the sequential model:"
      ]
    },
    {
      "cell_type": "code",
      "metadata": {
        "id": "c0sXM7qLlKfZ",
        "colab": {
          "base_uri": "https://localhost:8080/"
        },
        "outputId": "08a1f2ad-c321-42ce-9302-f9bec958570b"
      },
      "source": [
        "SiO2_model = tf.keras.Sequential([\n",
        "    SiO2_normalizer,\n",
        "    layers.Dense(units=1)\n",
        "])\n",
        "\n",
        "SiO2_model.summary()"
      ],
      "execution_count": 144,
      "outputs": [
        {
          "output_type": "stream",
          "text": [
            "Model: \"sequential_9\"\n",
            "_________________________________________________________________\n",
            "Layer (type)                 Output Shape              Param #   \n",
            "=================================================================\n",
            "normalization_5 (Normalizati (None, 1)                 3         \n",
            "_________________________________________________________________\n",
            "dense_19 (Dense)             (None, 1)                 2         \n",
            "=================================================================\n",
            "Total params: 5\n",
            "Trainable params: 2\n",
            "Non-trainable params: 3\n",
            "_________________________________________________________________\n"
          ],
          "name": "stdout"
        }
      ]
    },
    {
      "cell_type": "markdown",
      "metadata": {
        "id": "eObQu9fDnXGL"
      },
      "source": [
        "This model will predict `cone` from `SiO2`.\n",
        "\n",
        "Run the untrained model on the first 10 SiO2 values. The output won't be good, but you'll see that it has the expected shape, `(10,1)`:"
      ]
    },
    {
      "cell_type": "code",
      "metadata": {
        "id": "UfV1HS6bns-s",
        "colab": {
          "base_uri": "https://localhost:8080/"
        },
        "outputId": "591aa0e5-b73b-4f34-e367-3d0002cc0e20"
      },
      "source": [
        "SiO2_model.predict(SiO2[:10])"
      ],
      "execution_count": 145,
      "outputs": [
        {
          "output_type": "execute_result",
          "data": {
            "text/plain": [
              "array([[-0.334],\n",
              "       [ 0.054],\n",
              "       [ 0.324],\n",
              "       [ 0.072],\n",
              "       [ 0.549],\n",
              "       [ 0.473],\n",
              "       [-0.532],\n",
              "       [ 0.315],\n",
              "       [ 0.428],\n",
              "       [ 0.266]], dtype=float32)"
            ]
          },
          "metadata": {
            "tags": []
          },
          "execution_count": 145
        }
      ]
    },
    {
      "cell_type": "markdown",
      "metadata": {
        "id": "CSkanJlmmFBX"
      },
      "source": [
        "Once the model is built, configure the training procedure using the `Model.compile()` method. The most important arguments to compile are the `loss` and the `optimizer` since these define what will be optimized (`mean_absolute_error`) and how (using the `optimizers.Adam`)."
      ]
    },
    {
      "cell_type": "code",
      "metadata": {
        "id": "JxA_3lpOm-SK"
      },
      "source": [
        "SiO2_model.compile(\n",
        "    optimizer=tf.optimizers.Adam(learning_rate=0.1),\n",
        "    loss='mean_absolute_error')"
      ],
      "execution_count": 146,
      "outputs": []
    },
    {
      "cell_type": "markdown",
      "metadata": {
        "id": "Z3q1I9TwnRSC"
      },
      "source": [
        "Once the training is configured, use `Model.fit()` to execute the training:"
      ]
    },
    {
      "cell_type": "code",
      "metadata": {
        "id": "-iSrNy59nRAp",
        "colab": {
          "base_uri": "https://localhost:8080/"
        },
        "outputId": "4b8e6f57-5e4e-459f-b2cd-84ceef1ab82a"
      },
      "source": [
        "%%time\n",
        "history = SiO2_model.fit(\n",
        "    train_features['SiO2'], train_labels,\n",
        "    epochs=100,\n",
        "    # suppress logging\n",
        "    verbose=0,\n",
        "    # Calculate validation results on 20% of the training data\n",
        "    validation_split = 0.2)"
      ],
      "execution_count": 147,
      "outputs": [
        {
          "output_type": "stream",
          "text": [
            "CPU times: user 48.5 s, sys: 8.76 s, total: 57.3 s\n",
            "Wall time: 28.9 s\n"
          ],
          "name": "stdout"
        }
      ]
    },
    {
      "cell_type": "markdown",
      "metadata": {
        "id": "tQm3pc0FYPQB"
      },
      "source": [
        "Visualize the model's training progress using the stats stored in the `history` object."
      ]
    },
    {
      "cell_type": "code",
      "metadata": {
        "id": "YCAwD_y4AdC3",
        "colab": {
          "base_uri": "https://localhost:8080/",
          "height": 198
        },
        "outputId": "628b3800-5f52-4c7b-9938-b076e8ddf10d"
      },
      "source": [
        "hist = pd.DataFrame(history.history)\n",
        "hist['epoch'] = history.epoch\n",
        "hist.tail()"
      ],
      "execution_count": 148,
      "outputs": [
        {
          "output_type": "execute_result",
          "data": {
            "text/html": [
              "<div>\n",
              "<style scoped>\n",
              "    .dataframe tbody tr th:only-of-type {\n",
              "        vertical-align: middle;\n",
              "    }\n",
              "\n",
              "    .dataframe tbody tr th {\n",
              "        vertical-align: top;\n",
              "    }\n",
              "\n",
              "    .dataframe thead th {\n",
              "        text-align: right;\n",
              "    }\n",
              "</style>\n",
              "<table border=\"1\" class=\"dataframe\">\n",
              "  <thead>\n",
              "    <tr style=\"text-align: right;\">\n",
              "      <th></th>\n",
              "      <th>loss</th>\n",
              "      <th>val_loss</th>\n",
              "      <th>epoch</th>\n",
              "    </tr>\n",
              "  </thead>\n",
              "  <tbody>\n",
              "    <tr>\n",
              "      <th>95</th>\n",
              "      <td>2.633641</td>\n",
              "      <td>2.722620</td>\n",
              "      <td>95</td>\n",
              "    </tr>\n",
              "    <tr>\n",
              "      <th>96</th>\n",
              "      <td>2.634695</td>\n",
              "      <td>2.726860</td>\n",
              "      <td>96</td>\n",
              "    </tr>\n",
              "    <tr>\n",
              "      <th>97</th>\n",
              "      <td>2.634884</td>\n",
              "      <td>2.741130</td>\n",
              "      <td>97</td>\n",
              "    </tr>\n",
              "    <tr>\n",
              "      <th>98</th>\n",
              "      <td>2.633565</td>\n",
              "      <td>2.708462</td>\n",
              "      <td>98</td>\n",
              "    </tr>\n",
              "    <tr>\n",
              "      <th>99</th>\n",
              "      <td>2.636328</td>\n",
              "      <td>2.735266</td>\n",
              "      <td>99</td>\n",
              "    </tr>\n",
              "  </tbody>\n",
              "</table>\n",
              "</div>"
            ],
            "text/plain": [
              "        loss  val_loss  epoch\n",
              "95  2.633641  2.722620     95\n",
              "96  2.634695  2.726860     96\n",
              "97  2.634884  2.741130     97\n",
              "98  2.633565  2.708462     98\n",
              "99  2.636328  2.735266     99"
            ]
          },
          "metadata": {
            "tags": []
          },
          "execution_count": 148
        }
      ]
    },
    {
      "cell_type": "code",
      "metadata": {
        "id": "9E54UoZunqhc"
      },
      "source": [
        "def plot_loss(history):\n",
        "  plt.plot(history.history['loss'], label='loss')\n",
        "  plt.plot(history.history['val_loss'], label='val_loss')\n",
        "  plt.ylim([0, 10])\n",
        "  plt.xlabel('Epoch')\n",
        "  plt.ylabel('Error [cone]')\n",
        "  plt.legend()\n",
        "  plt.grid(True)"
      ],
      "execution_count": 149,
      "outputs": []
    },
    {
      "cell_type": "code",
      "metadata": {
        "id": "yYsQYrIZyqjz",
        "colab": {
          "base_uri": "https://localhost:8080/",
          "height": 283
        },
        "outputId": "dfb42855-cb0e-458d-9090-5eb6a81e6d85"
      },
      "source": [
        "plot_loss(history)"
      ],
      "execution_count": 150,
      "outputs": [
        {
          "output_type": "display_data",
          "data": {
            "image/png": "[encoded data removed]",
            "text/plain": [
              "<Figure size 432x288 with 1 Axes>"
            ]
          },
          "metadata": {
            "tags": [],
            "needs_background": "light"
          }
        }
      ]
    },
    {
      "cell_type": "markdown",
      "metadata": {
        "id": "CMNrt8X2ebXd"
      },
      "source": [
        "Collect the results on the test set, for later:"
      ]
    },
    {
      "cell_type": "code",
      "metadata": {
        "id": "kDZ8EvNYrDtx"
      },
      "source": [
        "test_results = {}\n",
        "\n",
        "test_results['SiO2_model'] = SiO2_model.evaluate(\n",
        "    test_features['SiO2'],\n",
        "    test_labels, verbose=0)"
      ],
      "execution_count": 151,
      "outputs": []
    },
    {
      "cell_type": "markdown",
      "metadata": {
        "id": "F0qutYAKwoda"
      },
      "source": [
        "Since this is a single variable regression it's easy to look at the model's predictions as a function of the input:"
      ]
    },
    {
      "cell_type": "code",
      "metadata": {
        "id": "xDS2JEtOn9Jn"
      },
      "source": [
        "x = tf.linspace(0.0, 250, 251)\n",
        "y = SiO2_model.predict(x)"
      ],
      "execution_count": 152,
      "outputs": []
    },
    {
      "cell_type": "code",
      "metadata": {
        "id": "rttFCTU8czsI"
      },
      "source": [
        "def plot_SiO2(x, y):\n",
        "  plt.scatter(train_features['SiO2'], train_labels, label='Data')\n",
        "  plt.plot(x, y, color='k', label='Predictions')\n",
        "  plt.xlabel('SiO2')\n",
        "  plt.ylabel('cone')\n",
        "  plt.legend()"
      ],
      "execution_count": 153,
      "outputs": []
    },
    {
      "cell_type": "code",
      "metadata": {
        "id": "7l9ZiAOEUNBL",
        "colab": {
          "base_uri": "https://localhost:8080/",
          "height": 279
        },
        "outputId": "941562a4-29bb-4626-d22f-55288a05d3d8"
      },
      "source": [
        "plot_SiO2(x,y)"
      ],
      "execution_count": 154,
      "outputs": [
        {
          "output_type": "display_data",
          "data": {
            "image/png": "[encoded data removed]",
            "text/plain": [
              "<Figure size 432x288 with 1 Axes>"
            ]
          },
          "metadata": {
            "tags": [],
            "needs_background": "light"
          }
        }
      ]
    },
    {
      "cell_type": "markdown",
      "metadata": {
        "id": "Yk2RmlqPoM9u"
      },
      "source": [
        "### Multiple inputs"
      ]
    },
    {
      "cell_type": "markdown",
      "metadata": {
        "id": "PribnwDHUksC"
      },
      "source": [
        "You can use an almost identical setup to make predictions based on multiple inputs. This model still does the same $y = mx+b$ except that $m$ is a matrix and $b$ is a vector.\n",
        "\n",
        "This time use the `Normalization` layer that was adapted to the whole dataset."
      ]
    },
    {
      "cell_type": "code",
      "metadata": {
        "id": "ssnVcKg7oMe6"
      },
      "source": [
        "linear_model = tf.keras.Sequential([\n",
        "    normalizer,\n",
        "    layers.Dense(units=1)\n",
        "])"
      ],
      "execution_count": 155,
      "outputs": []
    },
    {
      "cell_type": "markdown",
      "metadata": {
        "id": "IHlx6WeIWyAr"
      },
      "source": [
        "When you call this model on a batch of inputs, it produces `units=1` outputs for each example."
      ]
    },
    {
      "cell_type": "code",
      "metadata": {
        "id": "DynfJV18WiuT",
        "colab": {
          "base_uri": "https://localhost:8080/"
        },
        "outputId": "4065b400-927d-44e2-c01a-074376739353"
      },
      "source": [
        "linear_model.predict(train_features[:10])"
      ],
      "execution_count": 156,
      "outputs": [
        {
          "output_type": "execute_result",
          "data": {
            "text/plain": [
              "array([[ 0.88 ],\n",
              "       [ 0.135],\n",
              "       [-0.401],\n",
              "       [-1.281],\n",
              "       [ 1.461],\n",
              "       [ 0.467],\n",
              "       [ 0.905],\n",
              "       [ 1.006],\n",
              "       [-0.362],\n",
              "       [ 1.163]], dtype=float32)"
            ]
          },
          "metadata": {
            "tags": []
          },
          "execution_count": 156
        }
      ]
    },
    {
      "cell_type": "markdown",
      "metadata": {
        "id": "hvHKH3rPXHmq"
      },
      "source": [
        "When you call the model it's weight matrices will be built. Now you can see that the `kernel` (the $m$ in $y=mx+b$) has a shape of `(9,1)`."
      ]
    },
    {
      "cell_type": "code",
      "metadata": {
        "id": "DwJ4Fq0RXBQf",
        "colab": {
          "base_uri": "https://localhost:8080/"
        },
        "outputId": "1849e025-e77b-4522-8f91-d40c3e0e414c"
      },
      "source": [
        "linear_model.layers[1].kernel"
      ],
      "execution_count": 157,
      "outputs": [
        {
          "output_type": "execute_result",
          "data": {
            "text/plain": [
              "<tf.Variable 'dense_20/kernel:0' shape=(25, 1) dtype=float32, numpy=\n",
              "array([[-0.208],\n",
              "       [ 0.34 ],\n",
              "       [-0.248],\n",
              "       [ 0.411],\n",
              "       [-0.442],\n",
              "       [-0.313],\n",
              "       [-0.106],\n",
              "       [-0.261],\n",
              "       [ 0.029],\n",
              "       [-0.465],\n",
              "       [-0.157],\n",
              "       [ 0.228],\n",
              "       [-0.396],\n",
              "       [-0.144],\n",
              "       [-0.155],\n",
              "       [-0.369],\n",
              "       [-0.061],\n",
              "       [ 0.308],\n",
              "       [ 0.402],\n",
              "       [ 0.055],\n",
              "       [-0.155],\n",
              "       [-0.147],\n",
              "       [ 0.112],\n",
              "       [-0.254],\n",
              "       [-0.25 ]], dtype=float32)>"
            ]
          },
          "metadata": {
            "tags": []
          },
          "execution_count": 157
        }
      ]
    },
    {
      "cell_type": "markdown",
      "metadata": {
        "id": "eINAc6rZXzOt"
      },
      "source": [
        "Use the same `compile` and `fit` calls as for the single input `SiO2` model:"
      ]
    },
    {
      "cell_type": "code",
      "metadata": {
        "id": "A0Sv_Ybr0szp"
      },
      "source": [
        "linear_model.compile(\n",
        "    optimizer=tf.optimizers.Adam(learning_rate=0.1),\n",
        "    loss='mean_absolute_error')"
      ],
      "execution_count": 158,
      "outputs": []
    },
    {
      "cell_type": "code",
      "metadata": {
        "id": "EZoOYORvoTSe",
        "colab": {
          "base_uri": "https://localhost:8080/"
        },
        "outputId": "a0954cf9-df3e-4975-a87d-64280c0e28f0"
      },
      "source": [
        "%%time\n",
        "history = linear_model.fit(\n",
        "    train_features, train_labels, \n",
        "    epochs=100,\n",
        "    # suppress logging\n",
        "    verbose=0,\n",
        "    # Calculate validation results on 20% of the training data\n",
        "    validation_split = 0.2)"
      ],
      "execution_count": 159,
      "outputs": [
        {
          "output_type": "stream",
          "text": [
            "CPU times: user 49 s, sys: 8.5 s, total: 57.5 s\n",
            "Wall time: 29 s\n"
          ],
          "name": "stdout"
        }
      ]
    },
    {
      "cell_type": "markdown",
      "metadata": {
        "id": "EdxiCbiNYK2F"
      },
      "source": [
        "Using all the inputs achieves a much lower training and validation error than the `SiO2` model: "
      ]
    },
    {
      "cell_type": "code",
      "metadata": {
        "id": "4sWO3W0koYgu",
        "colab": {
          "base_uri": "https://localhost:8080/",
          "height": 283
        },
        "outputId": "ca690c8d-32fc-4ad9-e9c0-e2e6c872205a"
      },
      "source": [
        "plot_loss(history)"
      ],
      "execution_count": 160,
      "outputs": [
        {
          "output_type": "display_data",
          "data": {
            "image/png": "[encoded data removed]",
            "text/plain": [
              "<Figure size 432x288 with 1 Axes>"
            ]
          },
          "metadata": {
            "tags": [],
            "needs_background": "light"
          }
        }
      ]
    },
    {
      "cell_type": "markdown",
      "metadata": {
        "id": "NyN49hIWe_NH"
      },
      "source": [
        "Collect the results on the test set, for later:"
      ]
    },
    {
      "cell_type": "code",
      "metadata": {
        "id": "jNC3D1DGsGgK"
      },
      "source": [
        "test_results['linear_model'] = linear_model.evaluate(\n",
        "    test_features, test_labels, verbose=0)"
      ],
      "execution_count": 161,
      "outputs": []
    },
    {
      "cell_type": "markdown",
      "metadata": {
        "id": "SmjdzxKzEu1-"
      },
      "source": [
        "## A DNN regression"
      ]
    },
    {
      "cell_type": "markdown",
      "metadata": {
        "id": "DT_aHPsrzO1t"
      },
      "source": [
        "The previous section implemented linear models for single and multiple inputs.\n",
        "\n",
        "This section implements single-input and multiple-input DNN models. The code is basically the same except the model is expanded to include some \"hidden\"  non-linear layers. The name \"hidden\" here just means not directly connected to the inputs or outputs."
      ]
    },
    {
      "cell_type": "markdown",
      "metadata": {
        "id": "6SWtkIjhrZwa"
      },
      "source": [
        "These models will contain a few more layers than the linear model:\n",
        "\n",
        "* The normalization layer.\n",
        "* Two hidden, nonlinear, `Dense` layers using the `relu` nonlinearity.\n",
        "* A linear single-output layer.\n",
        "\n",
        "Both will use the same training procedure so the `compile` method is included in the `build_and_compile_model` function below."
      ]
    },
    {
      "cell_type": "code",
      "metadata": {
        "id": "c26juK7ZG8j-"
      },
      "source": [
        "def build_and_compile_model(norm):\n",
        "  model = keras.Sequential([\n",
        "      norm,\n",
        "      layers.Dense(64, activation='relu'),\n",
        "      layers.Dense(64, activation='relu'),\n",
        "      layers.Dense(1)\n",
        "  ])\n",
        "\n",
        "  model.compile(loss='mean_absolute_error',\n",
        "                optimizer=tf.keras.optimizers.Adam(0.001))\n",
        "  return model"
      ],
      "execution_count": 162,
      "outputs": []
    },
    {
      "cell_type": "markdown",
      "metadata": {
        "id": "7T4RP1V36gVn"
      },
      "source": [
        "### One variable"
      ]
    },
    {
      "cell_type": "markdown",
      "metadata": {
        "id": "xvu9gtxTZR5V"
      },
      "source": [
        "Start with a DNN model for a single input: \"SiO2\""
      ]
    },
    {
      "cell_type": "code",
      "metadata": {
        "id": "cGbPb-PHGbhs"
      },
      "source": [
        "dnn_SiO2_model = build_and_compile_model(SiO2_normalizer)"
      ],
      "execution_count": 163,
      "outputs": []
    },
    {
      "cell_type": "markdown",
      "metadata": {
        "id": "Sj49Og4YGULr"
      },
      "source": [
        "This model has quite a few more trainable parameters than the linear models."
      ]
    },
    {
      "cell_type": "code",
      "metadata": {
        "id": "ReAD0n6MsFK-",
        "colab": {
          "base_uri": "https://localhost:8080/"
        },
        "outputId": "4b73188a-9436-4410-9ef4-15c2408d686e"
      },
      "source": [
        "dnn_SiO2_model.summary()"
      ],
      "execution_count": 164,
      "outputs": [
        {
          "output_type": "stream",
          "text": [
            "Model: \"sequential_11\"\n",
            "_________________________________________________________________\n",
            "Layer (type)                 Output Shape              Param #   \n",
            "=================================================================\n",
            "normalization_5 (Normalizati (None, 1)                 3         \n",
            "_________________________________________________________________\n",
            "dense_21 (Dense)             (None, 64)                128       \n",
            "_________________________________________________________________\n",
            "dense_22 (Dense)             (None, 64)                4160      \n",
            "_________________________________________________________________\n",
            "dense_23 (Dense)             (None, 1)                 65        \n",
            "=================================================================\n",
            "Total params: 4,356\n",
            "Trainable params: 4,353\n",
            "Non-trainable params: 3\n",
            "_________________________________________________________________\n"
          ],
          "name": "stdout"
        }
      ]
    },
    {
      "cell_type": "markdown",
      "metadata": {
        "id": "0-qWCsh6DlyH"
      },
      "source": [
        "Train the model:"
      ]
    },
    {
      "cell_type": "code",
      "metadata": {
        "id": "sD7qHCmNIOY0",
        "colab": {
          "base_uri": "https://localhost:8080/"
        },
        "outputId": "988c527f-838a-4a8b-bcc3-7f858e28a8d9"
      },
      "source": [
        "%%time\n",
        "history = dnn_SiO2_model.fit(\n",
        "    train_features['SiO2'], train_labels,\n",
        "    validation_split=0.2,\n",
        "    verbose=0, epochs=100)"
      ],
      "execution_count": 165,
      "outputs": [
        {
          "output_type": "stream",
          "text": [
            "CPU times: user 53.1 s, sys: 8.83 s, total: 1min 1s\n",
            "Wall time: 32.5 s\n"
          ],
          "name": "stdout"
        }
      ]
    },
    {
      "cell_type": "markdown",
      "metadata": {
        "id": "dArGGxHxcKjN"
      },
      "source": [
        "This model does slightly better than the linear SiO2 model."
      ]
    },
    {
      "cell_type": "code",
      "metadata": {
        "id": "NcF6UWjdCU8T",
        "colab": {
          "base_uri": "https://localhost:8080/",
          "height": 283
        },
        "outputId": "653fb03e-6387-4096-d84a-779a192e856d"
      },
      "source": [
        "plot_loss(history)"
      ],
      "execution_count": 166,
      "outputs": [
        {
          "output_type": "display_data",
          "data": {
            "image/png": "[encoded data removed]",
            "text/plain": [
              "<Figure size 432x288 with 1 Axes>"
            ]
          },
          "metadata": {
            "tags": [],
            "needs_background": "light"
          }
        }
      ]
    },
    {
      "cell_type": "markdown",
      "metadata": {
        "id": "TG1snlpR2QCK"
      },
      "source": [
        "If you plot the predictions as a function of `SiO2`, you'll see how this model takes advantage of the nonlinearity provided by the hidden layers:"
      ]
    },
    {
      "cell_type": "code",
      "metadata": {
        "id": "hPF53Rem14NS"
      },
      "source": [
        "x = tf.linspace(0.0, 250, 251)\n",
        "y = dnn_SiO2_model.predict(x)"
      ],
      "execution_count": 167,
      "outputs": []
    },
    {
      "cell_type": "code",
      "metadata": {
        "id": "rsf9rD8I17Wq",
        "colab": {
          "base_uri": "https://localhost:8080/",
          "height": 279
        },
        "outputId": "4b0a4af3-68f9-4e1a-ac8e-68c859124e40"
      },
      "source": [
        "plot_SiO2(x, y)"
      ],
      "execution_count": 168,
      "outputs": [
        {
          "output_type": "display_data",
          "data": {
            "image/png": "[encoded data removed]",
            "text/plain": [
              "<Figure size 432x288 with 1 Axes>"
            ]
          },
          "metadata": {
            "tags": [],
            "needs_background": "light"
          }
        }
      ]
    },
    {
      "cell_type": "markdown",
      "metadata": {
        "id": "WxCJKIUpe4io"
      },
      "source": [
        "Collect the results on the test set, for later:"
      ]
    },
    {
      "cell_type": "code",
      "metadata": {
        "id": "bJjM0dU52XtN"
      },
      "source": [
        "test_results['dnn_SiO2_model'] = dnn_SiO2_model.evaluate(\n",
        "    test_features['SiO2'], test_labels,\n",
        "    verbose=0)"
      ],
      "execution_count": 169,
      "outputs": []
    },
    {
      "cell_type": "markdown",
      "metadata": {
        "id": "S_2Btebp2e64"
      },
      "source": [
        "### Full model"
      ]
    },
    {
      "cell_type": "markdown",
      "metadata": {
        "id": "aKFtezDldLSf"
      },
      "source": [
        "If you repeat this process using all the inputs it slightly improves the performance on the validation dataset."
      ]
    },
    {
      "cell_type": "code",
      "metadata": {
        "id": "c0mhscXh2k36",
        "colab": {
          "base_uri": "https://localhost:8080/"
        },
        "outputId": "87e9647c-02b3-443a-95c6-cd7b4c13f210"
      },
      "source": [
        "dnn_model = build_and_compile_model(normalizer)\n",
        "dnn_model.summary()"
      ],
      "execution_count": 170,
      "outputs": [
        {
          "output_type": "stream",
          "text": [
            "Model: \"sequential_12\"\n",
            "_________________________________________________________________\n",
            "Layer (type)                 Output Shape              Param #   \n",
            "=================================================================\n",
            "normalization_4 (Normalizati (None, 25)                51        \n",
            "_________________________________________________________________\n",
            "dense_24 (Dense)             (None, 64)                1664      \n",
            "_________________________________________________________________\n",
            "dense_25 (Dense)             (None, 64)                4160      \n",
            "_________________________________________________________________\n",
            "dense_26 (Dense)             (None, 1)                 65        \n",
            "=================================================================\n",
            "Total params: 5,940\n",
            "Trainable params: 5,889\n",
            "Non-trainable params: 51\n",
            "_________________________________________________________________\n"
          ],
          "name": "stdout"
        }
      ]
    },
    {
      "cell_type": "code",
      "metadata": {
        "id": "CXDENACl2tuW",
        "colab": {
          "base_uri": "https://localhost:8080/"
        },
        "outputId": "747c7612-3431-431c-b20d-166a49f8cc4d"
      },
      "source": [
        "%%time\n",
        "history = dnn_model.fit(\n",
        "    train_features, train_labels,\n",
        "    validation_split=0.2,\n",
        "    verbose=0, epochs=100)"
      ],
      "execution_count": 171,
      "outputs": [
        {
          "output_type": "stream",
          "text": [
            "CPU times: user 53.3 s, sys: 8.99 s, total: 1min 2s\n",
            "Wall time: 32.7 s\n"
          ],
          "name": "stdout"
        }
      ]
    },
    {
      "cell_type": "code",
      "metadata": {
        "id": "-9Dbj0fX23RQ",
        "colab": {
          "base_uri": "https://localhost:8080/",
          "height": 283
        },
        "outputId": "1600666d-c39d-407f-b459-728c0b03d2bf"
      },
      "source": [
        "plot_loss(history)"
      ],
      "execution_count": 172,
      "outputs": [
        {
          "output_type": "display_data",
          "data": {
            "image/png": "[encoded data removed]",
            "text/plain": [
              "<Figure size 432x288 with 1 Axes>"
            ]
          },
          "metadata": {
            "tags": [],
            "needs_background": "light"
          }
        }
      ]
    },
    {
      "cell_type": "markdown",
      "metadata": {
        "id": "hWoVYS34fJPZ"
      },
      "source": [
        "Collect the results on the test set:"
      ]
    },
    {
      "cell_type": "code",
      "metadata": {
        "id": "-bZIa96W3c7K"
      },
      "source": [
        "test_results['dnn_model'] = dnn_model.evaluate(test_features, test_labels, verbose=0)"
      ],
      "execution_count": 173,
      "outputs": []
    },
    {
      "cell_type": "markdown",
      "metadata": {
        "id": "uiCucdPLfMkZ"
      },
      "source": [
        "## Performance"
      ]
    },
    {
      "cell_type": "markdown",
      "metadata": {
        "id": "rDf1xebEfWBw"
      },
      "source": [
        "Now that all the models are trained check the test-set performance and see how they did:"
      ]
    },
    {
      "cell_type": "code",
      "metadata": {
        "id": "e5_ooufM5iH2",
        "colab": {
          "base_uri": "https://localhost:8080/",
          "height": 168
        },
        "outputId": "0c3c60fe-55d3-422f-d0b3-e5cbf22e2ea7"
      },
      "source": [
        "pd.DataFrame(test_results, index=['Mean absolute error [cone]']).T"
      ],
      "execution_count": 174,
      "outputs": [
        {
          "output_type": "execute_result",
          "data": {
            "text/html": [
              "<div>\n",
              "<style scoped>\n",
              "    .dataframe tbody tr th:only-of-type {\n",
              "        vertical-align: middle;\n",
              "    }\n",
              "\n",
              "    .dataframe tbody tr th {\n",
              "        vertical-align: top;\n",
              "    }\n",
              "\n",
              "    .dataframe thead th {\n",
              "        text-align: right;\n",
              "    }\n",
              "</style>\n",
              "<table border=\"1\" class=\"dataframe\">\n",
              "  <thead>\n",
              "    <tr style=\"text-align: right;\">\n",
              "      <th></th>\n",
              "      <th>Mean absolute error [cone]</th>\n",
              "    </tr>\n",
              "  </thead>\n",
              "  <tbody>\n",
              "    <tr>\n",
              "      <th>SiO2_model</th>\n",
              "      <td>2.649857</td>\n",
              "    </tr>\n",
              "    <tr>\n",
              "      <th>linear_model</th>\n",
              "      <td>2.354662</td>\n",
              "    </tr>\n",
              "    <tr>\n",
              "      <th>dnn_SiO2_model</th>\n",
              "      <td>2.438880</td>\n",
              "    </tr>\n",
              "    <tr>\n",
              "      <th>dnn_model</th>\n",
              "      <td>1.807075</td>\n",
              "    </tr>\n",
              "  </tbody>\n",
              "</table>\n",
              "</div>"
            ],
            "text/plain": [
              "                Mean absolute error [cone]\n",
              "SiO2_model                        2.649857\n",
              "linear_model                      2.354662\n",
              "dnn_SiO2_model                    2.438880\n",
              "dnn_model                         1.807075"
            ]
          },
          "metadata": {
            "tags": []
          },
          "execution_count": 174
        }
      ]
    },
    {
      "cell_type": "markdown",
      "metadata": {
        "id": "DABIVzsCf-QI"
      },
      "source": [
        "These results match the validation error seen during training."
      ]
    },
    {
      "cell_type": "markdown",
      "metadata": {
        "id": "ft603OzXuEZC"
      },
      "source": [
        "### Make predictions\n",
        "\n",
        "Finally, predict have a look at the errors made by the model when making predictions on the test set:"
      ]
    },
    {
      "cell_type": "code",
      "metadata": {
        "id": "Xe7RXH3N3CWU",
        "colab": {
          "base_uri": "https://localhost:8080/",
          "height": 283
        },
        "outputId": "3393f720-f38b-4380-f369-45bdf8113028"
      },
      "source": [
        "test_predictions = dnn_model.predict(test_features).flatten()\n",
        "\n",
        "a = plt.axes(aspect='equal')\n",
        "plt.scatter(test_labels, test_predictions)\n",
        "plt.xlabel('True Values [cone]')\n",
        "plt.ylabel('Predictions [cone]')\n",
        "lims = [0, 50]\n",
        "plt.xlim(lims)\n",
        "plt.ylim(lims)\n",
        "_ = plt.plot(lims, lims)\n"
      ],
      "execution_count": 175,
      "outputs": [
        {
          "output_type": "display_data",
          "data": {
            "image/png": "[encoded data removed]",
            "text/plain": [
              "<Figure size 432x288 with 1 Axes>"
            ]
          },
          "metadata": {
            "tags": [],
            "needs_background": "light"
          }
        }
      ]
    },
    {
      "cell_type": "markdown",
      "metadata": {
        "id": "19wyogbOSU5t"
      },
      "source": [
        "It looks like the model predicts reasonably well. \n",
        "\n",
        "Now take a look at the error distribution:"
      ]
    },
    {
      "cell_type": "code",
      "metadata": {
        "id": "f-OHX4DiXd8x",
        "colab": {
          "base_uri": "https://localhost:8080/",
          "height": 279
        },
        "outputId": "2832603b-645e-41c3-a1f9-20e78a5c5065"
      },
      "source": [
        "error = test_predictions - test_labels\n",
        "plt.hist(error, bins=25)\n",
        "plt.xlabel('Prediction Error [cone]')\n",
        "_ = plt.ylabel('Count')"
      ],
      "execution_count": 177,
      "outputs": [
        {
          "output_type": "display_data",
          "data": {
            "image/png": "[encoded data removed]",
            "text/plain": [
              "<Figure size 432x288 with 1 Axes>"
            ]
          },
          "metadata": {
            "tags": [],
            "needs_background": "light"
          }
        }
      ]
    },
    {
      "cell_type": "markdown",
      "metadata": {
        "id": "KSyaHUfDT-mZ"
      },
      "source": [
        "If you're happy with the model save it for later use:"
      ]
    },
    {
      "cell_type": "code",
      "metadata": {
        "id": "4-WwLlmfT-mb",
        "colab": {
          "base_uri": "https://localhost:8080/"
        },
        "outputId": "f29e1498-1bc5-43d6-b72f-86d7f3df2306"
      },
      "source": [
        "dnn_model.save('dnn_model')"
      ],
      "execution_count": 178,
      "outputs": [
        {
          "output_type": "stream",
          "text": [
            "INFO:tensorflow:Assets written to: dnn_model/assets\n"
          ],
          "name": "stdout"
        }
      ]
    },
    {
      "cell_type": "markdown",
      "metadata": {
        "id": "Benlnl8UT-me"
      },
      "source": [
        "If you reload the model, it gives identical output:"
      ]
    },
    {
      "cell_type": "code",
      "metadata": {
        "id": "dyyyj2zVT-mf"
      },
      "source": [
        "reloaded = tf.keras.models.load_model('dnn_model')\n",
        "\n",
        "test_results['reloaded'] = reloaded.evaluate(\n",
        "    test_features, test_labels, verbose=0)"
      ],
      "execution_count": 179,
      "outputs": []
    },
    {
      "cell_type": "code",
      "metadata": {
        "id": "f_GchJ2tg-2o",
        "colab": {
          "base_uri": "https://localhost:8080/",
          "height": 198
        },
        "outputId": "a134489f-718a-48f8-e42d-b3011060969d"
      },
      "source": [
        "pd.DataFrame(test_results, index=['Mean absolute error [cone]']).T"
      ],
      "execution_count": 180,
      "outputs": [
        {
          "output_type": "execute_result",
          "data": {
            "text/html": [
              "<div>\n",
              "<style scoped>\n",
              "    .dataframe tbody tr th:only-of-type {\n",
              "        vertical-align: middle;\n",
              "    }\n",
              "\n",
              "    .dataframe tbody tr th {\n",
              "        vertical-align: top;\n",
              "    }\n",
              "\n",
              "    .dataframe thead th {\n",
              "        text-align: right;\n",
              "    }\n",
              "</style>\n",
              "<table border=\"1\" class=\"dataframe\">\n",
              "  <thead>\n",
              "    <tr style=\"text-align: right;\">\n",
              "      <th></th>\n",
              "      <th>Mean absolute error [cone]</th>\n",
              "    </tr>\n",
              "  </thead>\n",
              "  <tbody>\n",
              "    <tr>\n",
              "      <th>SiO2_model</th>\n",
              "      <td>2.649857</td>\n",
              "    </tr>\n",
              "    <tr>\n",
              "      <th>linear_model</th>\n",
              "      <td>2.354662</td>\n",
              "    </tr>\n",
              "    <tr>\n",
              "      <th>dnn_SiO2_model</th>\n",
              "      <td>2.438880</td>\n",
              "    </tr>\n",
              "    <tr>\n",
              "      <th>dnn_model</th>\n",
              "      <td>1.807075</td>\n",
              "    </tr>\n",
              "    <tr>\n",
              "      <th>reloaded</th>\n",
              "      <td>1.807075</td>\n",
              "    </tr>\n",
              "  </tbody>\n",
              "</table>\n",
              "</div>"
            ],
            "text/plain": [
              "                Mean absolute error [cone]\n",
              "SiO2_model                        2.649857\n",
              "linear_model                      2.354662\n",
              "dnn_SiO2_model                    2.438880\n",
              "dnn_model                         1.807075\n",
              "reloaded                          1.807075"
            ]
          },
          "metadata": {
            "tags": []
          },
          "execution_count": 180
        }
      ]
    },
    {
      "cell_type": "markdown",
      "metadata": {
        "id": "vgGQuV-yqYZH"
      },
      "source": [
        "## Conclusion\n",
        "\n",
        "This notebook introduced a few techniques to handle a regression problem. Here are a few more tips that may help:\n",
        "\n",
        "* [Mean Squared Error (MSE)](https://www.tensorflow.org/api_docs/python/tf/losses/MeanSquaredError) and [Mean Absolute Error (MAE)](https://www.tensorflow.org/api_docs/python/tf/losses/MeanAbsoluteError) are common loss functions used for regression problems. Mean Absolute Error is less sensitive to outliers. Different loss functions are used for classification problems.\n",
        "* Similarly, evaluation metrics used for regression differ from classification.\n",
        "* When numeric input data features have values with different ranges, each feature should be scaled independently to the same range.\n",
        "* Overfitting is a common problem for DNN models, it wasn't a problem for this tutorial. See the [overfit and underfit](overfit_and_underfit.ipynb) tutorial for more help with this.\n"
      ]
    }
  ]
}