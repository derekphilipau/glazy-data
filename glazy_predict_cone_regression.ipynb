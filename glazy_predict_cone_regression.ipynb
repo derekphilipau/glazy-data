{
  "nbformat": 4,
  "nbformat_minor": 0,
  "metadata": {
    "colab": {
      "name": "glazy_predict_cone_regression.ipynb",
      "provenance": [],
      "collapsed_sections": [],
      "toc_visible": true,
      "machine_shape": "hm",
      "include_colab_link": true
    },
    "kernelspec": {
      "display_name": "Python 3",
      "name": "python3"
    },
    "accelerator": "GPU"
  },
  "cells": [
    {
      "cell_type": "markdown",
      "metadata": {
        "id": "view-in-github",
        "colab_type": "text"
      },
      "source": [
        "<a href=\"https://colab.research.google.com/github/derekphilipau/glazy-data/blob/master/glazy_predict_cone_regression.ipynb\" target=\"_parent\"><img src=\"https://colab.research.google.com/assets/colab-badge.svg\" alt=\"Open In Colab\"/></a>"
      ]
    },
    {
      "cell_type": "markdown",
      "metadata": {
        "id": "Jb0VlOEj63xW"
      },
      "source": [
        "This Notebook was adapted from the excellent tutorial [Basic regression: Predict fuel efficiency](https://www.tensorflow.org/tutorials/keras/regression), video: [Get started with using TensorFlow to solve for regression problems](https://www.youtube.com/watch?v=-vHQub0NXI4)"
      ]
    },
    {
      "cell_type": "markdown",
      "metadata": {
        "id": "EIdT9iu_Z4Rb"
      },
      "source": [
        "# Basic regression: Predict Glaze Firing Cone (Temperature)"
      ]
    },
    {
      "cell_type": "markdown",
      "metadata": {
        "id": "AHp3M9ZmrIxj"
      },
      "source": [
        "In a *regression* problem, the aim is to predict the output of a continuous value, like a price or a probability. Contrast this with a *classification* problem, where the aim is to select a class from a list of classes (for example, where a picture contains an apple or an orange, recognizing which fruit is in the picture).\n",
        "\n",
        "This notebook uses data from the [Glazy Data Project](https://github.com/derekphilipau/glazy-data/) and builds a model to predict the firing temperature (Orton cone) of a glaze.  To do this, we look at the oxides of chemical analyses of glazes, like SiO2, Al2O3, CaO, etc.\n",
        "\n",
        "This example uses the `tf.keras` API, see [this guide](https://www.tensorflow.org/guide/keras) for details.\n",
        "\n",
        "Please see [Pieter Mostert's](https://github.com/PieterMostert) earlier work, [Glazy Data Analysis](https://github.com/PieterMostert/glazy-data-analysis) which goes deeper into problems with the Glazy dataset and discusses ways to deal with this problem."
      ]
    },
    {
      "cell_type": "code",
      "metadata": {
        "id": "moB4tpEHxKB3"
      },
      "source": [
        "# Use seaborn for pairplot\n",
        "!pip install -q seaborn"
      ],
      "execution_count": 1,
      "outputs": []
    },
    {
      "cell_type": "code",
      "metadata": {
        "id": "1rRo8oNqZ-Rj"
      },
      "source": [
        "import matplotlib.pyplot as plt\n",
        "import numpy as np\n",
        "import pandas as pd\n",
        "import seaborn as sns\n",
        "\n",
        "\n",
        "# Make numpy printouts easier to read.\n",
        "np.set_printoptions(precision=3, suppress=True)"
      ],
      "execution_count": 2,
      "outputs": []
    },
    {
      "cell_type": "code",
      "metadata": {
        "id": "9xQKvCJ85kCQ",
        "colab": {
          "base_uri": "https://localhost:8080/"
        },
        "outputId": "3ca3b093-b26d-42fe-bdbc-5e1d87b7adb8"
      },
      "source": [
        "import tensorflow as tf\n",
        "\n",
        "from tensorflow import keras\n",
        "from tensorflow.keras import layers\n",
        "from tensorflow.keras.layers.experimental import preprocessing\n",
        "\n",
        "print(tf.__version__)"
      ],
      "execution_count": 3,
      "outputs": [
        {
          "output_type": "stream",
          "text": [
            "2.4.1\n"
          ],
          "name": "stdout"
        }
      ]
    },
    {
      "cell_type": "markdown",
      "metadata": {
        "id": "gFh9ne3FZ-On"
      },
      "source": [
        "### Get the data\n",
        "First download and import the dataset using pandas.  Only perform this step with ONE of the following cells:\n",
        "* Full Oxides:  Include all major oxides.  Round to hundredths of a percent.  Mol%\n",
        "* Full Oxides w/o Specialty (default): Include major oxides,  Do NOT include specialty glazes, shinos, or crystalline glazes.  Round to hundredths of a percent.  Mol%.  **START WITH THIS DATASET.**\n",
        "* Limited Oxides: Include only a subset of oxides.  Round to hundredths of a percent.  Mol%\n",
        "* Limited Oxides w/o Specialty: Include only a subset of oxides.  Does NOT include specialty glazes.  Round to hundredths of a percent.  Mol%\n",
        "* UMF Oxides: Include a very limited subset of oxides in UMF.  Round to hundredths of a percent.  \n",
        "\n",
        "NOTES:\n",
        "* All files have been purged of duplicate rows (based on chemical analyses)\n",
        "* Cones are Glazy ID's for cones, not actual cone numbers (e.g. \"010\").  Cone 6 = 30, Cone 10 = 34."
      ]
    },
    {
      "cell_type": "code",
      "metadata": {
        "colab": {
          "base_uri": "https://localhost:8080/"
        },
        "id": "5meLWQMEQBn_",
        "outputId": "105894c3-b2a5-4268-cf5a-ca85bd5a7063"
      },
      "source": [
        "#@title Select a Glazy dataset\n",
        "data_file = \"Full Oxides w/o Specialty\" #@param [\"Full Oxides w/o Specialty\", \"Full Oxides\", \"Limited Oxides\", \"Limited Oxides w/o Specialty\", \"Limited Oxides w/o Specialty, Rounded\", \"UMF Oxides\"]\n",
        "\n",
        "# default to Full Oxides w/o Specialty\n",
        "url = 'https://github.com/derekphilipau/glazy-data/raw/master/machine-learning/data/20210409_glazes_unique_regression_no_specialty.csv'\n",
        "column_names = ['cone', 'SiO2', 'Al2O3', 'B2O3', 'Li2O', 'K2O', 'Na2O', 'MgO', 'CaO', 'SrO', 'BaO', 'ZnO', 'PbO', 'P2O5', 'Cr2O3', 'MnO', 'MnO2', 'FeO', 'Fe2O3', 'CoO', 'NiO', 'CuO', 'Cu2O', 'TiO2', 'ZrO2', 'SnO2']\n",
        "\n",
        "if data_file == 'Full Oxides':\n",
        "  url = 'https://github.com/derekphilipau/glazy-data/raw/master/machine-learning/data/20210409_glazes_unique_regression.csv'\n",
        "  column_names = ['cone', 'SiO2', 'Al2O3', 'B2O3', 'Li2O', 'K2O', 'Na2O', 'KNaO', 'MgO', 'CaO', 'SrO', 'BaO', 'ZnO', 'PbO', 'P2O5', 'Cr2O3', 'MnO', 'MnO2', 'FeO', 'Fe2O3', 'CoO', 'NiO', 'CuO', 'Cu2O', 'TiO2', 'ZrO2', 'SnO2']\n",
        "elif data_file == 'Limited Oxides':\n",
        "  url = 'https://github.com/derekphilipau/glazy-data/raw/master/machine-learning/data/20210409_glazes_unique_regression_limited.csv'\n",
        "  column_names = ['cone','SiO2','Al2O3','B2O3','Li2O','KNaO','MgO','CaO','SrO','BaO','ZnO','P2O5','MnO2','Fe2O3','TiO2']\n",
        "elif data_file == 'Limited Oxides w/o Specialty':\n",
        "  column_names = ['cone','SiO2','Al2O3','B2O3','Li2O','KNaO','MgO','CaO','SrO','BaO','ZnO','P2O5','MnO2','Fe2O3','TiO2']\n",
        "  url = 'https://github.com/derekphilipau/glazy-data/raw/master/machine-learning/data/20210409_glazes_unique_regression_limited_no_specialty.csv'\n",
        "elif data_file == 'Limited Oxides w/o Specialty, Rounded':\n",
        "  column_names = ['cone','SiO2','Al2O3','B2O3','Li2O','MgO','CaO','SrO','BaO','ZnO','P2O5','MnO2','Fe2O3','TiO2']\n",
        "  url = 'https://github.com/derekphilipau/glazy-data/raw/master/machine-learning/data/20210409_glazes_unique_regression_limited_no_specialty_rounded.csv'\n",
        "elif data_file == 'UMF Oxides':\n",
        "  column_names = ['cone', 'SiO2', 'Al2O3', 'B2O3', 'R2O', 'RO']\n",
        "  url = 'https://github.com/derekphilipau/glazy-data/raw/master/machine-learning/data/20210409_glazes_unique_regression_limited_umf.csv'\n",
        "\n",
        "print('Using option ' + data_file + ' ' + url)\n",
        "print('Columns: ')\n",
        "print(column_names)\n",
        "\n",
        "raw_dataset = pd.read_csv(url, names=column_names,\n",
        "                          na_values='?', comment='\\t',\n",
        "                          sep=',', skipinitialspace=True)"
      ],
      "execution_count": 4,
      "outputs": [
        {
          "output_type": "stream",
          "text": [
            "Using option Full Oxides w/o Specialty https://github.com/derekphilipau/glazy-data/raw/master/machine-learning/data/20210409_glazes_unique_regression_no_specialty.csv\n",
            "Columns: \n",
            "['cone', 'SiO2', 'Al2O3', 'B2O3', 'Li2O', 'K2O', 'Na2O', 'MgO', 'CaO', 'SrO', 'BaO', 'ZnO', 'PbO', 'P2O5', 'Cr2O3', 'MnO', 'MnO2', 'FeO', 'Fe2O3', 'CoO', 'NiO', 'CuO', 'Cu2O', 'TiO2', 'ZrO2', 'SnO2']\n"
          ],
          "name": "stdout"
        }
      ]
    },
    {
      "cell_type": "markdown",
      "metadata": {
        "id": "q7rXjOSPaIOB"
      },
      "source": [
        "***RESTART RUNTIME AFTER CHANGE***"
      ]
    },
    {
      "cell_type": "code",
      "metadata": {
        "id": "2oY3pMPagJrO",
        "colab": {
          "base_uri": "https://localhost:8080/",
          "height": 218
        },
        "outputId": "00047cca-63ef-439d-fffd-90aabaeb2ae1"
      },
      "source": [
        "dataset = raw_dataset.copy()\n",
        "dataset.tail()"
      ],
      "execution_count": 6,
      "outputs": [
        {
          "output_type": "execute_result",
          "data": {
            "text/html": [
              "<div>\n",
              "<style scoped>\n",
              "    .dataframe tbody tr th:only-of-type {\n",
              "        vertical-align: middle;\n",
              "    }\n",
              "\n",
              "    .dataframe tbody tr th {\n",
              "        vertical-align: top;\n",
              "    }\n",
              "\n",
              "    .dataframe thead th {\n",
              "        text-align: right;\n",
              "    }\n",
              "</style>\n",
              "<table border=\"1\" class=\"dataframe\">\n",
              "  <thead>\n",
              "    <tr style=\"text-align: right;\">\n",
              "      <th></th>\n",
              "      <th>cone</th>\n",
              "      <th>SiO2</th>\n",
              "      <th>Al2O3</th>\n",
              "      <th>B2O3</th>\n",
              "      <th>Li2O</th>\n",
              "      <th>K2O</th>\n",
              "      <th>Na2O</th>\n",
              "      <th>MgO</th>\n",
              "      <th>CaO</th>\n",
              "      <th>SrO</th>\n",
              "      <th>BaO</th>\n",
              "      <th>ZnO</th>\n",
              "      <th>PbO</th>\n",
              "      <th>P2O5</th>\n",
              "      <th>Cr2O3</th>\n",
              "      <th>MnO</th>\n",
              "      <th>MnO2</th>\n",
              "      <th>FeO</th>\n",
              "      <th>Fe2O3</th>\n",
              "      <th>CoO</th>\n",
              "      <th>NiO</th>\n",
              "      <th>CuO</th>\n",
              "      <th>Cu2O</th>\n",
              "      <th>TiO2</th>\n",
              "      <th>ZrO2</th>\n",
              "      <th>SnO2</th>\n",
              "    </tr>\n",
              "  </thead>\n",
              "  <tbody>\n",
              "    <tr>\n",
              "      <th>9755</th>\n",
              "      <td>8.0</td>\n",
              "      <td>50.54</td>\n",
              "      <td>8.03</td>\n",
              "      <td>14.61</td>\n",
              "      <td>7.81</td>\n",
              "      <td>1.70</td>\n",
              "      <td>7.98</td>\n",
              "      <td>1.75</td>\n",
              "      <td>7.24</td>\n",
              "      <td>0.0</td>\n",
              "      <td>0.0</td>\n",
              "      <td>0.25</td>\n",
              "      <td>0.0</td>\n",
              "      <td>0.01</td>\n",
              "      <td>0.0</td>\n",
              "      <td>0.0</td>\n",
              "      <td>0.0</td>\n",
              "      <td>0.0</td>\n",
              "      <td>0.05</td>\n",
              "      <td>0.0</td>\n",
              "      <td>0.0</td>\n",
              "      <td>0.00</td>\n",
              "      <td>0.0</td>\n",
              "      <td>0.03</td>\n",
              "      <td>0.0</td>\n",
              "      <td>0.00</td>\n",
              "    </tr>\n",
              "    <tr>\n",
              "      <th>9756</th>\n",
              "      <td>8.0</td>\n",
              "      <td>51.08</td>\n",
              "      <td>7.53</td>\n",
              "      <td>14.39</td>\n",
              "      <td>8.77</td>\n",
              "      <td>1.80</td>\n",
              "      <td>7.03</td>\n",
              "      <td>0.11</td>\n",
              "      <td>8.96</td>\n",
              "      <td>0.0</td>\n",
              "      <td>0.0</td>\n",
              "      <td>0.22</td>\n",
              "      <td>0.0</td>\n",
              "      <td>0.01</td>\n",
              "      <td>0.0</td>\n",
              "      <td>0.0</td>\n",
              "      <td>0.0</td>\n",
              "      <td>0.0</td>\n",
              "      <td>0.05</td>\n",
              "      <td>0.0</td>\n",
              "      <td>0.0</td>\n",
              "      <td>0.00</td>\n",
              "      <td>0.0</td>\n",
              "      <td>0.04</td>\n",
              "      <td>0.0</td>\n",
              "      <td>0.00</td>\n",
              "    </tr>\n",
              "    <tr>\n",
              "      <th>9757</th>\n",
              "      <td>9.0</td>\n",
              "      <td>29.02</td>\n",
              "      <td>2.96</td>\n",
              "      <td>5.02</td>\n",
              "      <td>0.00</td>\n",
              "      <td>0.00</td>\n",
              "      <td>10.40</td>\n",
              "      <td>0.00</td>\n",
              "      <td>5.35</td>\n",
              "      <td>0.0</td>\n",
              "      <td>0.0</td>\n",
              "      <td>0.00</td>\n",
              "      <td>0.0</td>\n",
              "      <td>0.00</td>\n",
              "      <td>0.0</td>\n",
              "      <td>0.0</td>\n",
              "      <td>0.0</td>\n",
              "      <td>0.0</td>\n",
              "      <td>0.00</td>\n",
              "      <td>0.0</td>\n",
              "      <td>0.0</td>\n",
              "      <td>0.00</td>\n",
              "      <td>0.0</td>\n",
              "      <td>0.00</td>\n",
              "      <td>0.0</td>\n",
              "      <td>0.00</td>\n",
              "    </tr>\n",
              "    <tr>\n",
              "      <th>9758</th>\n",
              "      <td>9.0</td>\n",
              "      <td>53.48</td>\n",
              "      <td>7.22</td>\n",
              "      <td>12.33</td>\n",
              "      <td>9.16</td>\n",
              "      <td>3.46</td>\n",
              "      <td>7.67</td>\n",
              "      <td>0.00</td>\n",
              "      <td>6.27</td>\n",
              "      <td>0.0</td>\n",
              "      <td>0.0</td>\n",
              "      <td>0.42</td>\n",
              "      <td>0.0</td>\n",
              "      <td>0.00</td>\n",
              "      <td>0.0</td>\n",
              "      <td>0.0</td>\n",
              "      <td>0.0</td>\n",
              "      <td>0.0</td>\n",
              "      <td>0.00</td>\n",
              "      <td>0.0</td>\n",
              "      <td>0.0</td>\n",
              "      <td>0.00</td>\n",
              "      <td>0.0</td>\n",
              "      <td>0.00</td>\n",
              "      <td>0.0</td>\n",
              "      <td>0.00</td>\n",
              "    </tr>\n",
              "    <tr>\n",
              "      <th>9759</th>\n",
              "      <td>9.0</td>\n",
              "      <td>53.88</td>\n",
              "      <td>3.53</td>\n",
              "      <td>13.30</td>\n",
              "      <td>9.52</td>\n",
              "      <td>1.71</td>\n",
              "      <td>10.11</td>\n",
              "      <td>0.00</td>\n",
              "      <td>6.74</td>\n",
              "      <td>0.0</td>\n",
              "      <td>0.0</td>\n",
              "      <td>0.26</td>\n",
              "      <td>0.0</td>\n",
              "      <td>0.00</td>\n",
              "      <td>0.0</td>\n",
              "      <td>0.0</td>\n",
              "      <td>0.0</td>\n",
              "      <td>0.0</td>\n",
              "      <td>0.00</td>\n",
              "      <td>0.0</td>\n",
              "      <td>0.0</td>\n",
              "      <td>0.52</td>\n",
              "      <td>0.0</td>\n",
              "      <td>0.00</td>\n",
              "      <td>0.0</td>\n",
              "      <td>0.43</td>\n",
              "    </tr>\n",
              "  </tbody>\n",
              "</table>\n",
              "</div>"
            ],
            "text/plain": [
              "      cone   SiO2  Al2O3   B2O3  Li2O   K2O  ...  NiO   CuO  Cu2O  TiO2  ZrO2  SnO2\n",
              "9755   8.0  50.54   8.03  14.61  7.81  1.70  ...  0.0  0.00   0.0  0.03   0.0  0.00\n",
              "9756   8.0  51.08   7.53  14.39  8.77  1.80  ...  0.0  0.00   0.0  0.04   0.0  0.00\n",
              "9757   9.0  29.02   2.96   5.02  0.00  0.00  ...  0.0  0.00   0.0  0.00   0.0  0.00\n",
              "9758   9.0  53.48   7.22  12.33  9.16  3.46  ...  0.0  0.00   0.0  0.00   0.0  0.00\n",
              "9759   9.0  53.88   3.53  13.30  9.52  1.71  ...  0.0  0.52   0.0  0.00   0.0  0.43\n",
              "\n",
              "[5 rows x 26 columns]"
            ]
          },
          "metadata": {
            "tags": []
          },
          "execution_count": 6
        }
      ]
    },
    {
      "cell_type": "markdown",
      "metadata": {
        "id": "3MWuJTKEDM-f"
      },
      "source": [
        "### Clean the data\n",
        "\n",
        "See if the dataset contains unknown values."
      ]
    },
    {
      "cell_type": "code",
      "metadata": {
        "id": "JEJHhN65a2VV",
        "colab": {
          "base_uri": "https://localhost:8080/"
        },
        "outputId": "a5801e0f-ac2c-404d-910a-0a3e10d78840"
      },
      "source": [
        "dataset.isna().sum()"
      ],
      "execution_count": 7,
      "outputs": [
        {
          "output_type": "execute_result",
          "data": {
            "text/plain": [
              "cone     0\n",
              "SiO2     1\n",
              "Al2O3    1\n",
              "B2O3     1\n",
              "Li2O     1\n",
              "K2O      1\n",
              "Na2O     1\n",
              "MgO      1\n",
              "CaO      1\n",
              "SrO      1\n",
              "BaO      1\n",
              "ZnO      1\n",
              "PbO      1\n",
              "P2O5     1\n",
              "Cr2O3    1\n",
              "MnO      1\n",
              "MnO2     1\n",
              "FeO      1\n",
              "Fe2O3    1\n",
              "CoO      1\n",
              "NiO      1\n",
              "CuO      1\n",
              "Cu2O     1\n",
              "TiO2     1\n",
              "ZrO2     1\n",
              "SnO2     1\n",
              "dtype: int64"
            ]
          },
          "metadata": {
            "tags": []
          },
          "execution_count": 7
        }
      ]
    },
    {
      "cell_type": "markdown",
      "metadata": {
        "id": "9UPN0KBHa_WI"
      },
      "source": [
        "Drop rows with unknown values."
      ]
    },
    {
      "cell_type": "code",
      "metadata": {
        "id": "4ZUDosChC1UN"
      },
      "source": [
        "dataset = dataset.dropna()"
      ],
      "execution_count": 8,
      "outputs": []
    },
    {
      "cell_type": "markdown",
      "metadata": {
        "id": "Cuym4yvk76vU"
      },
      "source": [
        "### Split the data into train and test\n",
        "\n",
        "Now split the dataset into a training set and a test set.\n",
        "\n",
        "Use the test set in the final evaluation of our models."
      ]
    },
    {
      "cell_type": "code",
      "metadata": {
        "id": "qn-IGhUE7_1H"
      },
      "source": [
        "train_dataset = dataset.sample(frac=0.8, random_state=0)\n",
        "test_dataset = dataset.drop(train_dataset.index)"
      ],
      "execution_count": 9,
      "outputs": []
    },
    {
      "cell_type": "code",
      "metadata": {
        "colab": {
          "base_uri": "https://localhost:8080/",
          "height": 218
        },
        "id": "w2ddSg_PMUM-",
        "outputId": "1a6432ed-1431-4656-af75-b068d4d7b743"
      },
      "source": [
        "train_dataset.head()"
      ],
      "execution_count": 10,
      "outputs": [
        {
          "output_type": "execute_result",
          "data": {
            "text/html": [
              "<div>\n",
              "<style scoped>\n",
              "    .dataframe tbody tr th:only-of-type {\n",
              "        vertical-align: middle;\n",
              "    }\n",
              "\n",
              "    .dataframe tbody tr th {\n",
              "        vertical-align: top;\n",
              "    }\n",
              "\n",
              "    .dataframe thead th {\n",
              "        text-align: right;\n",
              "    }\n",
              "</style>\n",
              "<table border=\"1\" class=\"dataframe\">\n",
              "  <thead>\n",
              "    <tr style=\"text-align: right;\">\n",
              "      <th></th>\n",
              "      <th>cone</th>\n",
              "      <th>SiO2</th>\n",
              "      <th>Al2O3</th>\n",
              "      <th>B2O3</th>\n",
              "      <th>Li2O</th>\n",
              "      <th>K2O</th>\n",
              "      <th>Na2O</th>\n",
              "      <th>MgO</th>\n",
              "      <th>CaO</th>\n",
              "      <th>SrO</th>\n",
              "      <th>BaO</th>\n",
              "      <th>ZnO</th>\n",
              "      <th>PbO</th>\n",
              "      <th>P2O5</th>\n",
              "      <th>Cr2O3</th>\n",
              "      <th>MnO</th>\n",
              "      <th>MnO2</th>\n",
              "      <th>FeO</th>\n",
              "      <th>Fe2O3</th>\n",
              "      <th>CoO</th>\n",
              "      <th>NiO</th>\n",
              "      <th>CuO</th>\n",
              "      <th>Cu2O</th>\n",
              "      <th>TiO2</th>\n",
              "      <th>ZrO2</th>\n",
              "      <th>SnO2</th>\n",
              "    </tr>\n",
              "  </thead>\n",
              "  <tbody>\n",
              "    <tr>\n",
              "      <th>5418</th>\n",
              "      <td>30.5</td>\n",
              "      <td>57.73</td>\n",
              "      <td>6.97</td>\n",
              "      <td>4.78</td>\n",
              "      <td>5.89</td>\n",
              "      <td>1.46</td>\n",
              "      <td>3.34</td>\n",
              "      <td>4.75</td>\n",
              "      <td>8.29</td>\n",
              "      <td>0.0</td>\n",
              "      <td>0.0</td>\n",
              "      <td>0.00</td>\n",
              "      <td>0.0</td>\n",
              "      <td>0.04</td>\n",
              "      <td>0.0</td>\n",
              "      <td>0.0</td>\n",
              "      <td>0.0</td>\n",
              "      <td>0.0</td>\n",
              "      <td>1.10</td>\n",
              "      <td>0.00</td>\n",
              "      <td>0.0</td>\n",
              "      <td>0.00</td>\n",
              "      <td>0.0</td>\n",
              "      <td>0.16</td>\n",
              "      <td>3.41</td>\n",
              "      <td>2.07</td>\n",
              "    </tr>\n",
              "    <tr>\n",
              "      <th>5835</th>\n",
              "      <td>31.0</td>\n",
              "      <td>66.78</td>\n",
              "      <td>6.27</td>\n",
              "      <td>3.34</td>\n",
              "      <td>2.43</td>\n",
              "      <td>0.03</td>\n",
              "      <td>2.31</td>\n",
              "      <td>0.14</td>\n",
              "      <td>13.92</td>\n",
              "      <td>0.0</td>\n",
              "      <td>0.0</td>\n",
              "      <td>1.53</td>\n",
              "      <td>0.0</td>\n",
              "      <td>0.00</td>\n",
              "      <td>0.0</td>\n",
              "      <td>0.0</td>\n",
              "      <td>0.0</td>\n",
              "      <td>0.0</td>\n",
              "      <td>0.12</td>\n",
              "      <td>0.00</td>\n",
              "      <td>0.0</td>\n",
              "      <td>1.57</td>\n",
              "      <td>0.0</td>\n",
              "      <td>1.56</td>\n",
              "      <td>0.00</td>\n",
              "      <td>0.00</td>\n",
              "    </tr>\n",
              "    <tr>\n",
              "      <th>5277</th>\n",
              "      <td>30.0</td>\n",
              "      <td>74.24</td>\n",
              "      <td>8.94</td>\n",
              "      <td>2.72</td>\n",
              "      <td>0.00</td>\n",
              "      <td>6.36</td>\n",
              "      <td>3.88</td>\n",
              "      <td>0.19</td>\n",
              "      <td>3.08</td>\n",
              "      <td>0.0</td>\n",
              "      <td>0.0</td>\n",
              "      <td>0.00</td>\n",
              "      <td>0.0</td>\n",
              "      <td>0.00</td>\n",
              "      <td>0.0</td>\n",
              "      <td>0.0</td>\n",
              "      <td>0.0</td>\n",
              "      <td>0.0</td>\n",
              "      <td>0.03</td>\n",
              "      <td>0.56</td>\n",
              "      <td>0.0</td>\n",
              "      <td>0.00</td>\n",
              "      <td>0.0</td>\n",
              "      <td>0.00</td>\n",
              "      <td>0.00</td>\n",
              "      <td>0.00</td>\n",
              "    </tr>\n",
              "    <tr>\n",
              "      <th>3119</th>\n",
              "      <td>30.0</td>\n",
              "      <td>58.29</td>\n",
              "      <td>12.11</td>\n",
              "      <td>2.80</td>\n",
              "      <td>0.00</td>\n",
              "      <td>3.05</td>\n",
              "      <td>1.84</td>\n",
              "      <td>0.66</td>\n",
              "      <td>12.17</td>\n",
              "      <td>0.0</td>\n",
              "      <td>0.0</td>\n",
              "      <td>8.92</td>\n",
              "      <td>0.0</td>\n",
              "      <td>0.02</td>\n",
              "      <td>0.0</td>\n",
              "      <td>0.0</td>\n",
              "      <td>0.0</td>\n",
              "      <td>0.0</td>\n",
              "      <td>0.08</td>\n",
              "      <td>0.00</td>\n",
              "      <td>0.0</td>\n",
              "      <td>0.00</td>\n",
              "      <td>0.0</td>\n",
              "      <td>0.06</td>\n",
              "      <td>0.00</td>\n",
              "      <td>0.00</td>\n",
              "    </tr>\n",
              "    <tr>\n",
              "      <th>7253</th>\n",
              "      <td>33.5</td>\n",
              "      <td>65.63</td>\n",
              "      <td>8.57</td>\n",
              "      <td>0.00</td>\n",
              "      <td>0.00</td>\n",
              "      <td>4.31</td>\n",
              "      <td>0.00</td>\n",
              "      <td>2.85</td>\n",
              "      <td>7.01</td>\n",
              "      <td>0.0</td>\n",
              "      <td>0.0</td>\n",
              "      <td>0.00</td>\n",
              "      <td>0.0</td>\n",
              "      <td>0.00</td>\n",
              "      <td>0.0</td>\n",
              "      <td>0.0</td>\n",
              "      <td>0.0</td>\n",
              "      <td>0.0</td>\n",
              "      <td>0.00</td>\n",
              "      <td>0.00</td>\n",
              "      <td>0.0</td>\n",
              "      <td>0.00</td>\n",
              "      <td>0.0</td>\n",
              "      <td>11.63</td>\n",
              "      <td>0.00</td>\n",
              "      <td>0.00</td>\n",
              "    </tr>\n",
              "  </tbody>\n",
              "</table>\n",
              "</div>"
            ],
            "text/plain": [
              "      cone   SiO2  Al2O3  B2O3  Li2O   K2O  ...  NiO   CuO  Cu2O   TiO2  ZrO2  SnO2\n",
              "5418  30.5  57.73   6.97  4.78  5.89  1.46  ...  0.0  0.00   0.0   0.16  3.41  2.07\n",
              "5835  31.0  66.78   6.27  3.34  2.43  0.03  ...  0.0  1.57   0.0   1.56  0.00  0.00\n",
              "5277  30.0  74.24   8.94  2.72  0.00  6.36  ...  0.0  0.00   0.0   0.00  0.00  0.00\n",
              "3119  30.0  58.29  12.11  2.80  0.00  3.05  ...  0.0  0.00   0.0   0.06  0.00  0.00\n",
              "7253  33.5  65.63   8.57  0.00  0.00  4.31  ...  0.0  0.00   0.0  11.63  0.00  0.00\n",
              "\n",
              "[5 rows x 26 columns]"
            ]
          },
          "metadata": {
            "tags": []
          },
          "execution_count": 10
        }
      ]
    },
    {
      "cell_type": "markdown",
      "metadata": {
        "id": "J4ubs136WLNp"
      },
      "source": [
        "### Inspect the data\n",
        "\n",
        "Have a quick look at the joint distribution of a few pairs of columns from the training set.\n",
        "\n",
        "Is firing temperature (cone) a function of the other parameters?"
      ]
    },
    {
      "cell_type": "code",
      "metadata": {
        "colab": {
          "base_uri": "https://localhost:8080/",
          "height": 726
        },
        "id": "qNoH_ZvxHxOg",
        "outputId": "a16b1417-cf91-4ed7-a7d7-42102630c9bf"
      },
      "source": [
        "g = sns.pairplot(train_dataset[['cone', 'SiO2', 'Al2O3', 'B2O3']], vars=['cone', 'SiO2', 'Al2O3', 'B2O3'], diag_kind='kde')"
      ],
      "execution_count": 11,
      "outputs": [
        {
          "output_type": "display_data",
          "data": {
            "image/png": "[encoded data removed]",
            "text/plain": [
              "<Figure size 720x720 with 20 Axes>"
            ]
          },
          "metadata": {
            "tags": [],
            "needs_background": "light"
          }
        }
      ]
    },
    {
      "cell_type": "markdown",
      "metadata": {
        "id": "gavKO_6DWRMP"
      },
      "source": [
        "Also look at the overall statistics, note how each feature covers a very different range:"
      ]
    },
    {
      "cell_type": "code",
      "metadata": {
        "id": "yi2FzC3T21jR",
        "colab": {
          "base_uri": "https://localhost:8080/",
          "height": 828
        },
        "outputId": "f9d5ae9d-8806-492e-a384-7b0ff796b6b4"
      },
      "source": [
        "train_dataset.describe().transpose()"
      ],
      "execution_count": 12,
      "outputs": [
        {
          "output_type": "execute_result",
          "data": {
            "text/html": [
              "<div>\n",
              "<style scoped>\n",
              "    .dataframe tbody tr th:only-of-type {\n",
              "        vertical-align: middle;\n",
              "    }\n",
              "\n",
              "    .dataframe tbody tr th {\n",
              "        vertical-align: top;\n",
              "    }\n",
              "\n",
              "    .dataframe thead th {\n",
              "        text-align: right;\n",
              "    }\n",
              "</style>\n",
              "<table border=\"1\" class=\"dataframe\">\n",
              "  <thead>\n",
              "    <tr style=\"text-align: right;\">\n",
              "      <th></th>\n",
              "      <th>count</th>\n",
              "      <th>mean</th>\n",
              "      <th>std</th>\n",
              "      <th>min</th>\n",
              "      <th>25%</th>\n",
              "      <th>50%</th>\n",
              "      <th>75%</th>\n",
              "      <th>max</th>\n",
              "    </tr>\n",
              "  </thead>\n",
              "  <tbody>\n",
              "    <tr>\n",
              "      <th>cone</th>\n",
              "      <td>7807.0</td>\n",
              "      <td>30.200205</td>\n",
              "      <td>4.219510</td>\n",
              "      <td>5.00</td>\n",
              "      <td>30.000</td>\n",
              "      <td>30.00</td>\n",
              "      <td>33.500</td>\n",
              "      <td>37.50</td>\n",
              "    </tr>\n",
              "    <tr>\n",
              "      <th>SiO2</th>\n",
              "      <td>7807.0</td>\n",
              "      <td>61.931652</td>\n",
              "      <td>8.969400</td>\n",
              "      <td>0.00</td>\n",
              "      <td>57.970</td>\n",
              "      <td>63.05</td>\n",
              "      <td>67.515</td>\n",
              "      <td>84.93</td>\n",
              "    </tr>\n",
              "    <tr>\n",
              "      <th>Al2O3</th>\n",
              "      <td>7807.0</td>\n",
              "      <td>8.283528</td>\n",
              "      <td>2.761532</td>\n",
              "      <td>0.00</td>\n",
              "      <td>6.540</td>\n",
              "      <td>7.95</td>\n",
              "      <td>9.980</td>\n",
              "      <td>33.70</td>\n",
              "    </tr>\n",
              "    <tr>\n",
              "      <th>B2O3</th>\n",
              "      <td>7807.0</td>\n",
              "      <td>3.118362</td>\n",
              "      <td>4.843139</td>\n",
              "      <td>0.00</td>\n",
              "      <td>0.000</td>\n",
              "      <td>1.33</td>\n",
              "      <td>4.370</td>\n",
              "      <td>45.87</td>\n",
              "    </tr>\n",
              "    <tr>\n",
              "      <th>Li2O</th>\n",
              "      <td>7807.0</td>\n",
              "      <td>0.733727</td>\n",
              "      <td>2.914697</td>\n",
              "      <td>-6.25</td>\n",
              "      <td>0.000</td>\n",
              "      <td>0.00</td>\n",
              "      <td>0.000</td>\n",
              "      <td>73.17</td>\n",
              "    </tr>\n",
              "    <tr>\n",
              "      <th>K2O</th>\n",
              "      <td>7807.0</td>\n",
              "      <td>2.410679</td>\n",
              "      <td>2.076807</td>\n",
              "      <td>0.00</td>\n",
              "      <td>1.000</td>\n",
              "      <td>1.95</td>\n",
              "      <td>3.310</td>\n",
              "      <td>18.25</td>\n",
              "    </tr>\n",
              "    <tr>\n",
              "      <th>Na2O</th>\n",
              "      <td>7807.0</td>\n",
              "      <td>3.277053</td>\n",
              "      <td>2.705951</td>\n",
              "      <td>0.00</td>\n",
              "      <td>1.540</td>\n",
              "      <td>2.78</td>\n",
              "      <td>4.570</td>\n",
              "      <td>100.00</td>\n",
              "    </tr>\n",
              "    <tr>\n",
              "      <th>MgO</th>\n",
              "      <td>7807.0</td>\n",
              "      <td>2.931569</td>\n",
              "      <td>3.848782</td>\n",
              "      <td>0.00</td>\n",
              "      <td>0.100</td>\n",
              "      <td>1.35</td>\n",
              "      <td>4.750</td>\n",
              "      <td>55.78</td>\n",
              "    </tr>\n",
              "    <tr>\n",
              "      <th>CaO</th>\n",
              "      <td>7807.0</td>\n",
              "      <td>11.371199</td>\n",
              "      <td>5.854196</td>\n",
              "      <td>0.00</td>\n",
              "      <td>7.995</td>\n",
              "      <td>11.12</td>\n",
              "      <td>14.240</td>\n",
              "      <td>65.73</td>\n",
              "    </tr>\n",
              "    <tr>\n",
              "      <th>SrO</th>\n",
              "      <td>7807.0</td>\n",
              "      <td>0.533084</td>\n",
              "      <td>2.314637</td>\n",
              "      <td>0.00</td>\n",
              "      <td>0.000</td>\n",
              "      <td>0.00</td>\n",
              "      <td>0.000</td>\n",
              "      <td>34.42</td>\n",
              "    </tr>\n",
              "    <tr>\n",
              "      <th>BaO</th>\n",
              "      <td>7807.0</td>\n",
              "      <td>0.678236</td>\n",
              "      <td>2.764636</td>\n",
              "      <td>0.00</td>\n",
              "      <td>0.000</td>\n",
              "      <td>0.00</td>\n",
              "      <td>0.000</td>\n",
              "      <td>40.46</td>\n",
              "    </tr>\n",
              "    <tr>\n",
              "      <th>ZnO</th>\n",
              "      <td>7807.0</td>\n",
              "      <td>1.207422</td>\n",
              "      <td>3.283030</td>\n",
              "      <td>0.00</td>\n",
              "      <td>0.000</td>\n",
              "      <td>0.00</td>\n",
              "      <td>0.000</td>\n",
              "      <td>81.08</td>\n",
              "    </tr>\n",
              "    <tr>\n",
              "      <th>PbO</th>\n",
              "      <td>7807.0</td>\n",
              "      <td>0.113227</td>\n",
              "      <td>1.783305</td>\n",
              "      <td>0.00</td>\n",
              "      <td>0.000</td>\n",
              "      <td>0.00</td>\n",
              "      <td>0.000</td>\n",
              "      <td>54.42</td>\n",
              "    </tr>\n",
              "    <tr>\n",
              "      <th>P2O5</th>\n",
              "      <td>7807.0</td>\n",
              "      <td>0.193821</td>\n",
              "      <td>0.703863</td>\n",
              "      <td>0.00</td>\n",
              "      <td>0.000</td>\n",
              "      <td>0.01</td>\n",
              "      <td>0.020</td>\n",
              "      <td>14.13</td>\n",
              "    </tr>\n",
              "    <tr>\n",
              "      <th>Cr2O3</th>\n",
              "      <td>7807.0</td>\n",
              "      <td>0.030423</td>\n",
              "      <td>0.222764</td>\n",
              "      <td>0.00</td>\n",
              "      <td>0.000</td>\n",
              "      <td>0.00</td>\n",
              "      <td>0.000</td>\n",
              "      <td>5.93</td>\n",
              "    </tr>\n",
              "    <tr>\n",
              "      <th>MnO</th>\n",
              "      <td>7807.0</td>\n",
              "      <td>0.032840</td>\n",
              "      <td>0.647452</td>\n",
              "      <td>0.00</td>\n",
              "      <td>0.000</td>\n",
              "      <td>0.00</td>\n",
              "      <td>0.000</td>\n",
              "      <td>50.15</td>\n",
              "    </tr>\n",
              "    <tr>\n",
              "      <th>MnO2</th>\n",
              "      <td>7807.0</td>\n",
              "      <td>0.110856</td>\n",
              "      <td>1.203004</td>\n",
              "      <td>0.00</td>\n",
              "      <td>0.000</td>\n",
              "      <td>0.00</td>\n",
              "      <td>0.000</td>\n",
              "      <td>63.01</td>\n",
              "    </tr>\n",
              "    <tr>\n",
              "      <th>FeO</th>\n",
              "      <td>7807.0</td>\n",
              "      <td>0.019749</td>\n",
              "      <td>0.216374</td>\n",
              "      <td>0.00</td>\n",
              "      <td>0.000</td>\n",
              "      <td>0.00</td>\n",
              "      <td>0.000</td>\n",
              "      <td>8.92</td>\n",
              "    </tr>\n",
              "    <tr>\n",
              "      <th>Fe2O3</th>\n",
              "      <td>7807.0</td>\n",
              "      <td>0.779011</td>\n",
              "      <td>1.533778</td>\n",
              "      <td>0.00</td>\n",
              "      <td>0.050</td>\n",
              "      <td>0.11</td>\n",
              "      <td>0.710</td>\n",
              "      <td>40.81</td>\n",
              "    </tr>\n",
              "    <tr>\n",
              "      <th>CoO</th>\n",
              "      <td>7807.0</td>\n",
              "      <td>0.181629</td>\n",
              "      <td>0.593077</td>\n",
              "      <td>0.00</td>\n",
              "      <td>0.000</td>\n",
              "      <td>0.00</td>\n",
              "      <td>0.000</td>\n",
              "      <td>11.31</td>\n",
              "    </tr>\n",
              "    <tr>\n",
              "      <th>NiO</th>\n",
              "      <td>7807.0</td>\n",
              "      <td>0.028925</td>\n",
              "      <td>0.295946</td>\n",
              "      <td>0.00</td>\n",
              "      <td>0.000</td>\n",
              "      <td>0.00</td>\n",
              "      <td>0.000</td>\n",
              "      <td>9.74</td>\n",
              "    </tr>\n",
              "    <tr>\n",
              "      <th>CuO</th>\n",
              "      <td>7807.0</td>\n",
              "      <td>0.381842</td>\n",
              "      <td>1.613249</td>\n",
              "      <td>0.00</td>\n",
              "      <td>0.000</td>\n",
              "      <td>0.00</td>\n",
              "      <td>0.000</td>\n",
              "      <td>79.65</td>\n",
              "    </tr>\n",
              "    <tr>\n",
              "      <th>Cu2O</th>\n",
              "      <td>7807.0</td>\n",
              "      <td>0.010799</td>\n",
              "      <td>0.770325</td>\n",
              "      <td>0.00</td>\n",
              "      <td>0.000</td>\n",
              "      <td>0.00</td>\n",
              "      <td>0.000</td>\n",
              "      <td>67.63</td>\n",
              "    </tr>\n",
              "    <tr>\n",
              "      <th>TiO2</th>\n",
              "      <td>7807.0</td>\n",
              "      <td>0.957956</td>\n",
              "      <td>2.411643</td>\n",
              "      <td>0.00</td>\n",
              "      <td>0.010</td>\n",
              "      <td>0.06</td>\n",
              "      <td>0.290</td>\n",
              "      <td>90.42</td>\n",
              "    </tr>\n",
              "    <tr>\n",
              "      <th>ZrO2</th>\n",
              "      <td>7807.0</td>\n",
              "      <td>0.332422</td>\n",
              "      <td>1.216010</td>\n",
              "      <td>0.00</td>\n",
              "      <td>0.000</td>\n",
              "      <td>0.00</td>\n",
              "      <td>0.000</td>\n",
              "      <td>13.80</td>\n",
              "    </tr>\n",
              "    <tr>\n",
              "      <th>SnO2</th>\n",
              "      <td>7807.0</td>\n",
              "      <td>0.260529</td>\n",
              "      <td>1.041825</td>\n",
              "      <td>0.00</td>\n",
              "      <td>0.000</td>\n",
              "      <td>0.00</td>\n",
              "      <td>0.000</td>\n",
              "      <td>48.39</td>\n",
              "    </tr>\n",
              "  </tbody>\n",
              "</table>\n",
              "</div>"
            ],
            "text/plain": [
              "        count       mean       std   min     25%    50%     75%     max\n",
              "cone   7807.0  30.200205  4.219510  5.00  30.000  30.00  33.500   37.50\n",
              "SiO2   7807.0  61.931652  8.969400  0.00  57.970  63.05  67.515   84.93\n",
              "Al2O3  7807.0   8.283528  2.761532  0.00   6.540   7.95   9.980   33.70\n",
              "B2O3   7807.0   3.118362  4.843139  0.00   0.000   1.33   4.370   45.87\n",
              "Li2O   7807.0   0.733727  2.914697 -6.25   0.000   0.00   0.000   73.17\n",
              "K2O    7807.0   2.410679  2.076807  0.00   1.000   1.95   3.310   18.25\n",
              "Na2O   7807.0   3.277053  2.705951  0.00   1.540   2.78   4.570  100.00\n",
              "MgO    7807.0   2.931569  3.848782  0.00   0.100   1.35   4.750   55.78\n",
              "CaO    7807.0  11.371199  5.854196  0.00   7.995  11.12  14.240   65.73\n",
              "SrO    7807.0   0.533084  2.314637  0.00   0.000   0.00   0.000   34.42\n",
              "BaO    7807.0   0.678236  2.764636  0.00   0.000   0.00   0.000   40.46\n",
              "ZnO    7807.0   1.207422  3.283030  0.00   0.000   0.00   0.000   81.08\n",
              "PbO    7807.0   0.113227  1.783305  0.00   0.000   0.00   0.000   54.42\n",
              "P2O5   7807.0   0.193821  0.703863  0.00   0.000   0.01   0.020   14.13\n",
              "Cr2O3  7807.0   0.030423  0.222764  0.00   0.000   0.00   0.000    5.93\n",
              "MnO    7807.0   0.032840  0.647452  0.00   0.000   0.00   0.000   50.15\n",
              "MnO2   7807.0   0.110856  1.203004  0.00   0.000   0.00   0.000   63.01\n",
              "FeO    7807.0   0.019749  0.216374  0.00   0.000   0.00   0.000    8.92\n",
              "Fe2O3  7807.0   0.779011  1.533778  0.00   0.050   0.11   0.710   40.81\n",
              "CoO    7807.0   0.181629  0.593077  0.00   0.000   0.00   0.000   11.31\n",
              "NiO    7807.0   0.028925  0.295946  0.00   0.000   0.00   0.000    9.74\n",
              "CuO    7807.0   0.381842  1.613249  0.00   0.000   0.00   0.000   79.65\n",
              "Cu2O   7807.0   0.010799  0.770325  0.00   0.000   0.00   0.000   67.63\n",
              "TiO2   7807.0   0.957956  2.411643  0.00   0.010   0.06   0.290   90.42\n",
              "ZrO2   7807.0   0.332422  1.216010  0.00   0.000   0.00   0.000   13.80\n",
              "SnO2   7807.0   0.260529  1.041825  0.00   0.000   0.00   0.000   48.39"
            ]
          },
          "metadata": {
            "tags": []
          },
          "execution_count": 12
        }
      ]
    },
    {
      "cell_type": "markdown",
      "metadata": {
        "id": "Db7Auq1yXUvh"
      },
      "source": [
        "### Split features from labels\n",
        "\n",
        "Separate the target value, the \"label\", from the features. This label is the value that you will train the model to predict."
      ]
    },
    {
      "cell_type": "code",
      "metadata": {
        "id": "t2sluJdCW7jN"
      },
      "source": [
        "train_features = train_dataset.copy()\n",
        "test_features = test_dataset.copy()\n",
        "\n",
        "train_labels = train_features.pop('cone')\n",
        "test_labels = test_features.pop('cone')"
      ],
      "execution_count": 13,
      "outputs": []
    },
    {
      "cell_type": "markdown",
      "metadata": {
        "id": "mRklxK5s388r"
      },
      "source": [
        "## Normalization\n",
        "\n",
        "In the table of statistics it's easy to see how different the ranges of each feature are."
      ]
    },
    {
      "cell_type": "code",
      "metadata": {
        "id": "IcmY6lKKbkw8",
        "colab": {
          "base_uri": "https://localhost:8080/",
          "height": 828
        },
        "outputId": "6a845067-03d2-419b-91b5-b3b6722f6707"
      },
      "source": [
        "train_dataset.describe().transpose()[['mean', 'std']]"
      ],
      "execution_count": 14,
      "outputs": [
        {
          "output_type": "execute_result",
          "data": {
            "text/html": [
              "<div>\n",
              "<style scoped>\n",
              "    .dataframe tbody tr th:only-of-type {\n",
              "        vertical-align: middle;\n",
              "    }\n",
              "\n",
              "    .dataframe tbody tr th {\n",
              "        vertical-align: top;\n",
              "    }\n",
              "\n",
              "    .dataframe thead th {\n",
              "        text-align: right;\n",
              "    }\n",
              "</style>\n",
              "<table border=\"1\" class=\"dataframe\">\n",
              "  <thead>\n",
              "    <tr style=\"text-align: right;\">\n",
              "      <th></th>\n",
              "      <th>mean</th>\n",
              "      <th>std</th>\n",
              "    </tr>\n",
              "  </thead>\n",
              "  <tbody>\n",
              "    <tr>\n",
              "      <th>cone</th>\n",
              "      <td>30.200205</td>\n",
              "      <td>4.219510</td>\n",
              "    </tr>\n",
              "    <tr>\n",
              "      <th>SiO2</th>\n",
              "      <td>61.931652</td>\n",
              "      <td>8.969400</td>\n",
              "    </tr>\n",
              "    <tr>\n",
              "      <th>Al2O3</th>\n",
              "      <td>8.283528</td>\n",
              "      <td>2.761532</td>\n",
              "    </tr>\n",
              "    <tr>\n",
              "      <th>B2O3</th>\n",
              "      <td>3.118362</td>\n",
              "      <td>4.843139</td>\n",
              "    </tr>\n",
              "    <tr>\n",
              "      <th>Li2O</th>\n",
              "      <td>0.733727</td>\n",
              "      <td>2.914697</td>\n",
              "    </tr>\n",
              "    <tr>\n",
              "      <th>K2O</th>\n",
              "      <td>2.410679</td>\n",
              "      <td>2.076807</td>\n",
              "    </tr>\n",
              "    <tr>\n",
              "      <th>Na2O</th>\n",
              "      <td>3.277053</td>\n",
              "      <td>2.705951</td>\n",
              "    </tr>\n",
              "    <tr>\n",
              "      <th>MgO</th>\n",
              "      <td>2.931569</td>\n",
              "      <td>3.848782</td>\n",
              "    </tr>\n",
              "    <tr>\n",
              "      <th>CaO</th>\n",
              "      <td>11.371199</td>\n",
              "      <td>5.854196</td>\n",
              "    </tr>\n",
              "    <tr>\n",
              "      <th>SrO</th>\n",
              "      <td>0.533084</td>\n",
              "      <td>2.314637</td>\n",
              "    </tr>\n",
              "    <tr>\n",
              "      <th>BaO</th>\n",
              "      <td>0.678236</td>\n",
              "      <td>2.764636</td>\n",
              "    </tr>\n",
              "    <tr>\n",
              "      <th>ZnO</th>\n",
              "      <td>1.207422</td>\n",
              "      <td>3.283030</td>\n",
              "    </tr>\n",
              "    <tr>\n",
              "      <th>PbO</th>\n",
              "      <td>0.113227</td>\n",
              "      <td>1.783305</td>\n",
              "    </tr>\n",
              "    <tr>\n",
              "      <th>P2O5</th>\n",
              "      <td>0.193821</td>\n",
              "      <td>0.703863</td>\n",
              "    </tr>\n",
              "    <tr>\n",
              "      <th>Cr2O3</th>\n",
              "      <td>0.030423</td>\n",
              "      <td>0.222764</td>\n",
              "    </tr>\n",
              "    <tr>\n",
              "      <th>MnO</th>\n",
              "      <td>0.032840</td>\n",
              "      <td>0.647452</td>\n",
              "    </tr>\n",
              "    <tr>\n",
              "      <th>MnO2</th>\n",
              "      <td>0.110856</td>\n",
              "      <td>1.203004</td>\n",
              "    </tr>\n",
              "    <tr>\n",
              "      <th>FeO</th>\n",
              "      <td>0.019749</td>\n",
              "      <td>0.216374</td>\n",
              "    </tr>\n",
              "    <tr>\n",
              "      <th>Fe2O3</th>\n",
              "      <td>0.779011</td>\n",
              "      <td>1.533778</td>\n",
              "    </tr>\n",
              "    <tr>\n",
              "      <th>CoO</th>\n",
              "      <td>0.181629</td>\n",
              "      <td>0.593077</td>\n",
              "    </tr>\n",
              "    <tr>\n",
              "      <th>NiO</th>\n",
              "      <td>0.028925</td>\n",
              "      <td>0.295946</td>\n",
              "    </tr>\n",
              "    <tr>\n",
              "      <th>CuO</th>\n",
              "      <td>0.381842</td>\n",
              "      <td>1.613249</td>\n",
              "    </tr>\n",
              "    <tr>\n",
              "      <th>Cu2O</th>\n",
              "      <td>0.010799</td>\n",
              "      <td>0.770325</td>\n",
              "    </tr>\n",
              "    <tr>\n",
              "      <th>TiO2</th>\n",
              "      <td>0.957956</td>\n",
              "      <td>2.411643</td>\n",
              "    </tr>\n",
              "    <tr>\n",
              "      <th>ZrO2</th>\n",
              "      <td>0.332422</td>\n",
              "      <td>1.216010</td>\n",
              "    </tr>\n",
              "    <tr>\n",
              "      <th>SnO2</th>\n",
              "      <td>0.260529</td>\n",
              "      <td>1.041825</td>\n",
              "    </tr>\n",
              "  </tbody>\n",
              "</table>\n",
              "</div>"
            ],
            "text/plain": [
              "            mean       std\n",
              "cone   30.200205  4.219510\n",
              "SiO2   61.931652  8.969400\n",
              "Al2O3   8.283528  2.761532\n",
              "B2O3    3.118362  4.843139\n",
              "Li2O    0.733727  2.914697\n",
              "K2O     2.410679  2.076807\n",
              "Na2O    3.277053  2.705951\n",
              "MgO     2.931569  3.848782\n",
              "CaO    11.371199  5.854196\n",
              "SrO     0.533084  2.314637\n",
              "BaO     0.678236  2.764636\n",
              "ZnO     1.207422  3.283030\n",
              "PbO     0.113227  1.783305\n",
              "P2O5    0.193821  0.703863\n",
              "Cr2O3   0.030423  0.222764\n",
              "MnO     0.032840  0.647452\n",
              "MnO2    0.110856  1.203004\n",
              "FeO     0.019749  0.216374\n",
              "Fe2O3   0.779011  1.533778\n",
              "CoO     0.181629  0.593077\n",
              "NiO     0.028925  0.295946\n",
              "CuO     0.381842  1.613249\n",
              "Cu2O    0.010799  0.770325\n",
              "TiO2    0.957956  2.411643\n",
              "ZrO2    0.332422  1.216010\n",
              "SnO2    0.260529  1.041825"
            ]
          },
          "metadata": {
            "tags": []
          },
          "execution_count": 14
        }
      ]
    },
    {
      "cell_type": "markdown",
      "metadata": {
        "id": "-ywmerQ6dSox"
      },
      "source": [
        "It is good practice to normalize features that use different scales and ranges. \n",
        "\n",
        "One reason this is important is because the features are multiplied by the model weights. So the scale of the outputs and the scale of the gradients are affected by the scale of the inputs. \n",
        "\n",
        "Although a model *might* converge without feature normalization, normalization makes training much more stable. "
      ]
    },
    {
      "cell_type": "markdown",
      "metadata": {
        "id": "aFJ6ISropeoo"
      },
      "source": [
        "### The Normalization layer\n",
        "The `preprocessing.Normalization` layer is a clean and simple way to build that preprocessing into your model.\n",
        "\n",
        "The first step is to create the layer:"
      ]
    },
    {
      "cell_type": "code",
      "metadata": {
        "id": "JlC5ooJrgjQF"
      },
      "source": [
        "normalizer = preprocessing.Normalization()"
      ],
      "execution_count": 15,
      "outputs": []
    },
    {
      "cell_type": "markdown",
      "metadata": {
        "id": "XYA2Ap6nVOha"
      },
      "source": [
        "Then `.adapt()` it to the data:"
      ]
    },
    {
      "cell_type": "code",
      "metadata": {
        "id": "CrBbbjbwV91f"
      },
      "source": [
        "normalizer.adapt(np.array(train_features))"
      ],
      "execution_count": 16,
      "outputs": []
    },
    {
      "cell_type": "markdown",
      "metadata": {
        "id": "oZccMR5yV9YV"
      },
      "source": [
        "This calculates the mean and variance, and stores them in the layer. "
      ]
    },
    {
      "cell_type": "code",
      "metadata": {
        "id": "GGn-ukwxSPtx",
        "colab": {
          "base_uri": "https://localhost:8080/"
        },
        "outputId": "02f008f0-b348-4ace-d628-a8c5e3602496"
      },
      "source": [
        "print(normalizer.mean.numpy())"
      ],
      "execution_count": 17,
      "outputs": [
        {
          "output_type": "stream",
          "text": [
            "[61.932  8.284  3.118  0.734  2.411  3.277  2.932 11.371  0.533  0.678\n",
            "  1.207  0.113  0.194  0.03   0.033  0.111  0.02   0.779  0.182  0.029\n",
            "  0.382  0.011  0.958  0.332  0.261]\n"
          ],
          "name": "stdout"
        }
      ]
    },
    {
      "cell_type": "markdown",
      "metadata": {
        "id": "oGWKaF9GSRuN"
      },
      "source": [
        "When the layer is called it returns the input data, with each feature independently normalized:"
      ]
    },
    {
      "cell_type": "code",
      "metadata": {
        "id": "2l7zFL_XWIRu",
        "colab": {
          "base_uri": "https://localhost:8080/"
        },
        "outputId": "5c98a331-500a-462b-d877-8e91dc4c3b30"
      },
      "source": [
        "first = np.array(train_features[:1])\n",
        "\n",
        "with np.printoptions(precision=2, suppress=True):\n",
        "  print('First example:', first)\n",
        "  print()\n",
        "  print('Normalized:', normalizer(first).numpy())"
      ],
      "execution_count": 18,
      "outputs": [
        {
          "output_type": "stream",
          "text": [
            "First example: [[57.73  6.97  4.78  5.89  1.46  3.34  4.75  8.29  0.    0.    0.    0.\n",
            "   0.04  0.    0.    0.    0.    1.1   0.    0.    0.    0.    0.16  3.41\n",
            "   2.07]]\n",
            "\n",
            "Normalized: [[-0.47 -0.48  0.34  1.77 -0.46  0.02  0.47 -0.53 -0.23 -0.25 -0.37 -0.06\n",
            "  -0.22 -0.14 -0.05 -0.09 -0.09  0.21 -0.31 -0.1  -0.24 -0.01 -0.33  2.53\n",
            "   1.74]]\n"
          ],
          "name": "stdout"
        }
      ]
    },
    {
      "cell_type": "markdown",
      "metadata": {
        "id": "6o3CrycBXA2s"
      },
      "source": [
        "## Linear regression\n",
        "\n",
        "Before building a DNN model, start with a linear regression."
      ]
    },
    {
      "cell_type": "markdown",
      "metadata": {
        "id": "lFby9n0tnHkw"
      },
      "source": [
        "### One Variable\n",
        "\n",
        "Start with a single-variable linear regression, to predict `cone` from `SiO2`.\n",
        "\n",
        "Training a model with `tf.keras` typically starts by defining the model architecture.\n",
        "\n",
        "In this case use a `keras.Sequential` model. This model represents a sequence of steps. In this case there are two steps:\n",
        "\n",
        "* Normalize the input `SiO2`.\n",
        "* Apply a linear transformation ($y = mx+b$) to produce 1 output using `layers.Dense`.\n",
        "\n",
        "The number of _inputs_ can either be set by the `input_shape` argument, or automatically when the model is run for the first time."
      ]
    },
    {
      "cell_type": "markdown",
      "metadata": {
        "id": "Xp3gAFn3TPv8"
      },
      "source": [
        "First create the SiO2 `Normalization` layer:"
      ]
    },
    {
      "cell_type": "code",
      "metadata": {
        "id": "1gJAy0fKs1TS"
      },
      "source": [
        "SiO2 = np.array(train_features['SiO2'])\n",
        "\n",
        "SiO2_normalizer = preprocessing.Normalization(input_shape=[1,])\n",
        "SiO2_normalizer.adapt(SiO2)"
      ],
      "execution_count": 19,
      "outputs": []
    },
    {
      "cell_type": "markdown",
      "metadata": {
        "id": "4NVlHJY2TWlC"
      },
      "source": [
        "Build the sequential model:"
      ]
    },
    {
      "cell_type": "code",
      "metadata": {
        "id": "c0sXM7qLlKfZ",
        "colab": {
          "base_uri": "https://localhost:8080/"
        },
        "outputId": "8e93249c-dc41-410d-fae3-86ce4472b5f5"
      },
      "source": [
        "SiO2_model = tf.keras.Sequential([\n",
        "    SiO2_normalizer,\n",
        "    layers.Dense(units=1)\n",
        "])\n",
        "\n",
        "SiO2_model.summary()"
      ],
      "execution_count": 20,
      "outputs": [
        {
          "output_type": "stream",
          "text": [
            "Model: \"sequential\"\n",
            "_________________________________________________________________\n",
            "Layer (type)                 Output Shape              Param #   \n",
            "=================================================================\n",
            "normalization_1 (Normalizati (None, 1)                 3         \n",
            "_________________________________________________________________\n",
            "dense (Dense)                (None, 1)                 2         \n",
            "=================================================================\n",
            "Total params: 5\n",
            "Trainable params: 2\n",
            "Non-trainable params: 3\n",
            "_________________________________________________________________\n"
          ],
          "name": "stdout"
        }
      ]
    },
    {
      "cell_type": "markdown",
      "metadata": {
        "id": "eObQu9fDnXGL"
      },
      "source": [
        "This model will predict `cone` from `SiO2`.\n",
        "\n",
        "Run the untrained model on the first 10 SiO2 values. The output won't be good, but you'll see that it has the expected shape, `(10,1)`:"
      ]
    },
    {
      "cell_type": "code",
      "metadata": {
        "id": "UfV1HS6bns-s",
        "colab": {
          "base_uri": "https://localhost:8080/"
        },
        "outputId": "145da53f-d473-4a9a-8f00-3f6aa00c4bab"
      },
      "source": [
        "SiO2_model.predict(SiO2[:10])"
      ],
      "execution_count": 21,
      "outputs": [
        {
          "output_type": "execute_result",
          "data": {
            "text/plain": [
              "array([[-0.083],\n",
              "       [ 0.095],\n",
              "       [ 0.242],\n",
              "       [-0.072],\n",
              "       [ 0.073],\n",
              "       [ 0.062],\n",
              "       [-0.049],\n",
              "       [ 0.114],\n",
              "       [-0.005],\n",
              "       [ 0.081]], dtype=float32)"
            ]
          },
          "metadata": {
            "tags": []
          },
          "execution_count": 21
        }
      ]
    },
    {
      "cell_type": "markdown",
      "metadata": {
        "id": "CSkanJlmmFBX"
      },
      "source": [
        "Once the model is built, configure the training procedure using the `Model.compile()` method. The most important arguments to compile are the `loss` and the `optimizer` since these define what will be optimized (`mean_absolute_error`) and how (using the `optimizers.Adam`)."
      ]
    },
    {
      "cell_type": "code",
      "metadata": {
        "id": "JxA_3lpOm-SK"
      },
      "source": [
        "SiO2_model.compile(\n",
        "    optimizer=tf.optimizers.Adam(learning_rate=0.1),\n",
        "    loss='mean_absolute_error')"
      ],
      "execution_count": 22,
      "outputs": []
    },
    {
      "cell_type": "markdown",
      "metadata": {
        "id": "Z3q1I9TwnRSC"
      },
      "source": [
        "Once the training is configured, use `Model.fit()` to execute the training:"
      ]
    },
    {
      "cell_type": "code",
      "metadata": {
        "id": "-iSrNy59nRAp",
        "colab": {
          "base_uri": "https://localhost:8080/"
        },
        "outputId": "0316d3b3-2f62-44e2-e002-de74d65d2f96"
      },
      "source": [
        "%%time\n",
        "history = SiO2_model.fit(\n",
        "    train_features['SiO2'], train_labels,\n",
        "    epochs=100,\n",
        "    # suppress logging\n",
        "    verbose=0,\n",
        "    # Calculate validation results on 20% of the training data\n",
        "    validation_split = 0.2)"
      ],
      "execution_count": 23,
      "outputs": [
        {
          "output_type": "stream",
          "text": [
            "CPU times: user 46.7 s, sys: 8.46 s, total: 55.2 s\n",
            "Wall time: 28.2 s\n"
          ],
          "name": "stdout"
        }
      ]
    },
    {
      "cell_type": "markdown",
      "metadata": {
        "id": "tQm3pc0FYPQB"
      },
      "source": [
        "Visualize the model's training progress using the stats stored in the `history` object."
      ]
    },
    {
      "cell_type": "code",
      "metadata": {
        "id": "YCAwD_y4AdC3",
        "colab": {
          "base_uri": "https://localhost:8080/",
          "height": 198
        },
        "outputId": "269052d8-9a0d-4a9c-92a7-fabf06c902c3"
      },
      "source": [
        "hist = pd.DataFrame(history.history)\n",
        "hist['epoch'] = history.epoch\n",
        "hist.tail()"
      ],
      "execution_count": 24,
      "outputs": [
        {
          "output_type": "execute_result",
          "data": {
            "text/html": [
              "<div>\n",
              "<style scoped>\n",
              "    .dataframe tbody tr th:only-of-type {\n",
              "        vertical-align: middle;\n",
              "    }\n",
              "\n",
              "    .dataframe tbody tr th {\n",
              "        vertical-align: top;\n",
              "    }\n",
              "\n",
              "    .dataframe thead th {\n",
              "        text-align: right;\n",
              "    }\n",
              "</style>\n",
              "<table border=\"1\" class=\"dataframe\">\n",
              "  <thead>\n",
              "    <tr style=\"text-align: right;\">\n",
              "      <th></th>\n",
              "      <th>loss</th>\n",
              "      <th>val_loss</th>\n",
              "      <th>epoch</th>\n",
              "    </tr>\n",
              "  </thead>\n",
              "  <tbody>\n",
              "    <tr>\n",
              "      <th>95</th>\n",
              "      <td>2.647456</td>\n",
              "      <td>2.762209</td>\n",
              "      <td>95</td>\n",
              "    </tr>\n",
              "    <tr>\n",
              "      <th>96</th>\n",
              "      <td>2.650801</td>\n",
              "      <td>2.764050</td>\n",
              "      <td>96</td>\n",
              "    </tr>\n",
              "    <tr>\n",
              "      <th>97</th>\n",
              "      <td>2.648153</td>\n",
              "      <td>2.749238</td>\n",
              "      <td>97</td>\n",
              "    </tr>\n",
              "    <tr>\n",
              "      <th>98</th>\n",
              "      <td>2.644144</td>\n",
              "      <td>2.795025</td>\n",
              "      <td>98</td>\n",
              "    </tr>\n",
              "    <tr>\n",
              "      <th>99</th>\n",
              "      <td>2.637575</td>\n",
              "      <td>2.757038</td>\n",
              "      <td>99</td>\n",
              "    </tr>\n",
              "  </tbody>\n",
              "</table>\n",
              "</div>"
            ],
            "text/plain": [
              "        loss  val_loss  epoch\n",
              "95  2.647456  2.762209     95\n",
              "96  2.650801  2.764050     96\n",
              "97  2.648153  2.749238     97\n",
              "98  2.644144  2.795025     98\n",
              "99  2.637575  2.757038     99"
            ]
          },
          "metadata": {
            "tags": []
          },
          "execution_count": 24
        }
      ]
    },
    {
      "cell_type": "code",
      "metadata": {
        "id": "9E54UoZunqhc"
      },
      "source": [
        "def plot_loss(history):\n",
        "  plt.plot(history.history['loss'], label='loss')\n",
        "  plt.plot(history.history['val_loss'], label='val_loss')\n",
        "  plt.ylim([0, 10])\n",
        "  plt.xlabel('Epoch')\n",
        "  plt.ylabel('Error [cone]')\n",
        "  plt.legend()\n",
        "  plt.grid(True)"
      ],
      "execution_count": 25,
      "outputs": []
    },
    {
      "cell_type": "code",
      "metadata": {
        "id": "yYsQYrIZyqjz",
        "colab": {
          "base_uri": "https://localhost:8080/",
          "height": 283
        },
        "outputId": "443284c5-5ffb-441c-d476-a495fac406b4"
      },
      "source": [
        "plot_loss(history)"
      ],
      "execution_count": 26,
      "outputs": [
        {
          "output_type": "display_data",
          "data": {
            "image/png": "[encoded data removed]",
            "text/plain": [
              "<Figure size 432x288 with 1 Axes>"
            ]
          },
          "metadata": {
            "tags": [],
            "needs_background": "light"
          }
        }
      ]
    },
    {
      "cell_type": "markdown",
      "metadata": {
        "id": "CMNrt8X2ebXd"
      },
      "source": [
        "Collect the results on the test set, for later:"
      ]
    },
    {
      "cell_type": "code",
      "metadata": {
        "id": "kDZ8EvNYrDtx"
      },
      "source": [
        "test_results = {}\n",
        "\n",
        "test_results['SiO2_model'] = SiO2_model.evaluate(\n",
        "    test_features['SiO2'],\n",
        "    test_labels, verbose=0)"
      ],
      "execution_count": 27,
      "outputs": []
    },
    {
      "cell_type": "markdown",
      "metadata": {
        "id": "F0qutYAKwoda"
      },
      "source": [
        "Since this is a single variable regression it's easy to look at the model's predictions as a function of the input:"
      ]
    },
    {
      "cell_type": "code",
      "metadata": {
        "id": "xDS2JEtOn9Jn"
      },
      "source": [
        "x = tf.linspace(0.0, 250, 251)\n",
        "y = SiO2_model.predict(x)"
      ],
      "execution_count": 28,
      "outputs": []
    },
    {
      "cell_type": "code",
      "metadata": {
        "id": "rttFCTU8czsI"
      },
      "source": [
        "def plot_SiO2(x, y):\n",
        "  plt.scatter(train_features['SiO2'], train_labels, label='Data')\n",
        "  plt.plot(x, y, color='k', label='Predictions')\n",
        "  plt.xlabel('SiO2')\n",
        "  plt.ylabel('cone')\n",
        "  plt.legend()"
      ],
      "execution_count": 29,
      "outputs": []
    },
    {
      "cell_type": "code",
      "metadata": {
        "id": "7l9ZiAOEUNBL",
        "colab": {
          "base_uri": "https://localhost:8080/",
          "height": 279
        },
        "outputId": "35f90e6b-a9e6-41ef-dcdc-8f61565c1873"
      },
      "source": [
        "plot_SiO2(x,y)"
      ],
      "execution_count": 30,
      "outputs": [
        {
          "output_type": "display_data",
          "data": {
            "image/png": "[encoded data removed]",
            "text/plain": [
              "<Figure size 432x288 with 1 Axes>"
            ]
          },
          "metadata": {
            "tags": [],
            "needs_background": "light"
          }
        }
      ]
    },
    {
      "cell_type": "markdown",
      "metadata": {
        "id": "Yk2RmlqPoM9u"
      },
      "source": [
        "### Multiple inputs"
      ]
    },
    {
      "cell_type": "markdown",
      "metadata": {
        "id": "PribnwDHUksC"
      },
      "source": [
        "You can use an almost identical setup to make predictions based on multiple inputs. This model still does the same $y = mx+b$ except that $m$ is a matrix and $b$ is a vector.\n",
        "\n",
        "This time use the `Normalization` layer that was adapted to the whole dataset."
      ]
    },
    {
      "cell_type": "code",
      "metadata": {
        "id": "ssnVcKg7oMe6"
      },
      "source": [
        "linear_model = tf.keras.Sequential([\n",
        "    normalizer,\n",
        "    layers.Dense(units=1)\n",
        "])"
      ],
      "execution_count": 31,
      "outputs": []
    },
    {
      "cell_type": "markdown",
      "metadata": {
        "id": "IHlx6WeIWyAr"
      },
      "source": [
        "When you call this model on a batch of inputs, it produces `units=1` outputs for each example."
      ]
    },
    {
      "cell_type": "code",
      "metadata": {
        "id": "DynfJV18WiuT",
        "colab": {
          "base_uri": "https://localhost:8080/"
        },
        "outputId": "775a85f2-056e-4ded-b0ae-c11eeff0938f"
      },
      "source": [
        "linear_model.predict(train_features[:10])"
      ],
      "execution_count": 32,
      "outputs": [
        {
          "output_type": "execute_result",
          "data": {
            "text/plain": [
              "array([[-0.075],\n",
              "       [ 0.55 ],\n",
              "       [ 1.323],\n",
              "       [ 1.125],\n",
              "       [-0.896],\n",
              "       [-0.845],\n",
              "       [ 1.513],\n",
              "       [ 1.508],\n",
              "       [-0.098],\n",
              "       [-0.91 ]], dtype=float32)"
            ]
          },
          "metadata": {
            "tags": []
          },
          "execution_count": 32
        }
      ]
    },
    {
      "cell_type": "markdown",
      "metadata": {
        "id": "hvHKH3rPXHmq"
      },
      "source": [
        "When you call the model it's weight matrices will be built. Now you can see that the `kernel` (the $m$ in $y=mx+b$) has a shape of `(9,1)`."
      ]
    },
    {
      "cell_type": "code",
      "metadata": {
        "id": "DwJ4Fq0RXBQf",
        "colab": {
          "base_uri": "https://localhost:8080/"
        },
        "outputId": "b122fe71-8838-4b41-e98a-6ab6f4e21310"
      },
      "source": [
        "linear_model.layers[1].kernel"
      ],
      "execution_count": 33,
      "outputs": [
        {
          "output_type": "execute_result",
          "data": {
            "text/plain": [
              "<tf.Variable 'dense_1/kernel:0' shape=(25, 1) dtype=float32, numpy=\n",
              "array([[ 0.244],\n",
              "       [-0.176],\n",
              "       [-0.116],\n",
              "       [ 0.248],\n",
              "       [-0.039],\n",
              "       [ 0.182],\n",
              "       [-0.37 ],\n",
              "       [-0.295],\n",
              "       [-0.204],\n",
              "       [ 0.051],\n",
              "       [ 0.351],\n",
              "       [-0.375],\n",
              "       [-0.127],\n",
              "       [-0.069],\n",
              "       [-0.287],\n",
              "       [-0.151],\n",
              "       [-0.373],\n",
              "       [-0.263],\n",
              "       [-0.088],\n",
              "       [-0.364],\n",
              "       [-0.447],\n",
              "       [-0.431],\n",
              "       [-0.308],\n",
              "       [-0.477],\n",
              "       [ 0.295]], dtype=float32)>"
            ]
          },
          "metadata": {
            "tags": []
          },
          "execution_count": 33
        }
      ]
    },
    {
      "cell_type": "markdown",
      "metadata": {
        "id": "eINAc6rZXzOt"
      },
      "source": [
        "Use the same `compile` and `fit` calls as for the single input `SiO2` model:"
      ]
    },
    {
      "cell_type": "code",
      "metadata": {
        "id": "A0Sv_Ybr0szp"
      },
      "source": [
        "linear_model.compile(\n",
        "    optimizer=tf.optimizers.Adam(learning_rate=0.1),\n",
        "    loss='mean_absolute_error')"
      ],
      "execution_count": 34,
      "outputs": []
    },
    {
      "cell_type": "code",
      "metadata": {
        "id": "EZoOYORvoTSe",
        "colab": {
          "base_uri": "https://localhost:8080/"
        },
        "outputId": "1ffda6ad-398a-4176-8596-2115c4fb0fe1"
      },
      "source": [
        "%%time\n",
        "history = linear_model.fit(\n",
        "    train_features, train_labels, \n",
        "    epochs=100,\n",
        "    # suppress logging\n",
        "    verbose=0,\n",
        "    # Calculate validation results on 20% of the training data\n",
        "    validation_split = 0.2)"
      ],
      "execution_count": 35,
      "outputs": [
        {
          "output_type": "stream",
          "text": [
            "CPU times: user 47.3 s, sys: 8.29 s, total: 55.6 s\n",
            "Wall time: 28.3 s\n"
          ],
          "name": "stdout"
        }
      ]
    },
    {
      "cell_type": "markdown",
      "metadata": {
        "id": "EdxiCbiNYK2F"
      },
      "source": [
        "Using all the inputs achieves a much lower training and validation error than the `SiO2` model: "
      ]
    },
    {
      "cell_type": "code",
      "metadata": {
        "id": "4sWO3W0koYgu",
        "colab": {
          "base_uri": "https://localhost:8080/",
          "height": 283
        },
        "outputId": "f56158e1-2a45-4396-a28f-deb6550d503d"
      },
      "source": [
        "plot_loss(history)"
      ],
      "execution_count": 36,
      "outputs": [
        {
          "output_type": "display_data",
          "data": {
            "image/png": "[encoded data removed]",
            "text/plain": [
              "<Figure size 432x288 with 1 Axes>"
            ]
          },
          "metadata": {
            "tags": [],
            "needs_background": "light"
          }
        }
      ]
    },
    {
      "cell_type": "markdown",
      "metadata": {
        "id": "NyN49hIWe_NH"
      },
      "source": [
        "Collect the results on the test set, for later:"
      ]
    },
    {
      "cell_type": "code",
      "metadata": {
        "id": "jNC3D1DGsGgK"
      },
      "source": [
        "test_results['linear_model'] = linear_model.evaluate(\n",
        "    test_features, test_labels, verbose=0)"
      ],
      "execution_count": 37,
      "outputs": []
    },
    {
      "cell_type": "markdown",
      "metadata": {
        "id": "SmjdzxKzEu1-"
      },
      "source": [
        "## A DNN regression"
      ]
    },
    {
      "cell_type": "markdown",
      "metadata": {
        "id": "DT_aHPsrzO1t"
      },
      "source": [
        "The previous section implemented linear models for single and multiple inputs.\n",
        "\n",
        "This section implements single-input and multiple-input DNN models. The code is basically the same except the model is expanded to include some \"hidden\"  non-linear layers. The name \"hidden\" here just means not directly connected to the inputs or outputs."
      ]
    },
    {
      "cell_type": "markdown",
      "metadata": {
        "id": "6SWtkIjhrZwa"
      },
      "source": [
        "These models will contain a few more layers than the linear model:\n",
        "\n",
        "* The normalization layer.\n",
        "* Two hidden, nonlinear, `Dense` layers using the `relu` nonlinearity.\n",
        "* A linear single-output layer.\n",
        "\n",
        "Both will use the same training procedure so the `compile` method is included in the `build_and_compile_model` function below."
      ]
    },
    {
      "cell_type": "code",
      "metadata": {
        "id": "c26juK7ZG8j-"
      },
      "source": [
        "def build_and_compile_model(norm):\n",
        "  model = keras.Sequential([\n",
        "      norm,\n",
        "      layers.Dense(64, activation='relu'),\n",
        "      layers.Dense(64, activation='relu'),\n",
        "      layers.Dense(1)\n",
        "  ])\n",
        "\n",
        "  model.compile(loss='mean_absolute_error',\n",
        "                optimizer=tf.keras.optimizers.Adam(0.001))\n",
        "  return model"
      ],
      "execution_count": 38,
      "outputs": []
    },
    {
      "cell_type": "markdown",
      "metadata": {
        "id": "7T4RP1V36gVn"
      },
      "source": [
        "### One variable"
      ]
    },
    {
      "cell_type": "markdown",
      "metadata": {
        "id": "xvu9gtxTZR5V"
      },
      "source": [
        "Start with a DNN model for a single input: \"SiO2\""
      ]
    },
    {
      "cell_type": "code",
      "metadata": {
        "id": "cGbPb-PHGbhs"
      },
      "source": [
        "dnn_SiO2_model = build_and_compile_model(SiO2_normalizer)"
      ],
      "execution_count": 39,
      "outputs": []
    },
    {
      "cell_type": "markdown",
      "metadata": {
        "id": "Sj49Og4YGULr"
      },
      "source": [
        "This model has quite a few more trainable parameters than the linear models."
      ]
    },
    {
      "cell_type": "code",
      "metadata": {
        "id": "ReAD0n6MsFK-",
        "colab": {
          "base_uri": "https://localhost:8080/"
        },
        "outputId": "0c633dfa-df79-46a2-80bc-cc6d6ffaef4c"
      },
      "source": [
        "dnn_SiO2_model.summary()"
      ],
      "execution_count": 40,
      "outputs": [
        {
          "output_type": "stream",
          "text": [
            "Model: \"sequential_2\"\n",
            "_________________________________________________________________\n",
            "Layer (type)                 Output Shape              Param #   \n",
            "=================================================================\n",
            "normalization_1 (Normalizati (None, 1)                 3         \n",
            "_________________________________________________________________\n",
            "dense_2 (Dense)              (None, 64)                128       \n",
            "_________________________________________________________________\n",
            "dense_3 (Dense)              (None, 64)                4160      \n",
            "_________________________________________________________________\n",
            "dense_4 (Dense)              (None, 1)                 65        \n",
            "=================================================================\n",
            "Total params: 4,356\n",
            "Trainable params: 4,353\n",
            "Non-trainable params: 3\n",
            "_________________________________________________________________\n"
          ],
          "name": "stdout"
        }
      ]
    },
    {
      "cell_type": "markdown",
      "metadata": {
        "id": "0-qWCsh6DlyH"
      },
      "source": [
        "Train the model:"
      ]
    },
    {
      "cell_type": "code",
      "metadata": {
        "id": "sD7qHCmNIOY0",
        "colab": {
          "base_uri": "https://localhost:8080/"
        },
        "outputId": "fbff397e-c33d-4779-ceaa-7cfb4753938c"
      },
      "source": [
        "%%time\n",
        "history = dnn_SiO2_model.fit(\n",
        "    train_features['SiO2'], train_labels,\n",
        "    validation_split=0.2,\n",
        "    verbose=0, epochs=100)"
      ],
      "execution_count": 41,
      "outputs": [
        {
          "output_type": "stream",
          "text": [
            "CPU times: user 51.2 s, sys: 8.54 s, total: 59.8 s\n",
            "Wall time: 31.7 s\n"
          ],
          "name": "stdout"
        }
      ]
    },
    {
      "cell_type": "markdown",
      "metadata": {
        "id": "dArGGxHxcKjN"
      },
      "source": [
        "This model does slightly better than the linear SiO2 model."
      ]
    },
    {
      "cell_type": "code",
      "metadata": {
        "id": "NcF6UWjdCU8T",
        "colab": {
          "base_uri": "https://localhost:8080/",
          "height": 283
        },
        "outputId": "d5db5812-6f89-4a59-d4f9-060f488f445e"
      },
      "source": [
        "plot_loss(history)"
      ],
      "execution_count": 42,
      "outputs": [
        {
          "output_type": "display_data",
          "data": {
            "image/png": "[encoded data removed]",
            "text/plain": [
              "<Figure size 432x288 with 1 Axes>"
            ]
          },
          "metadata": {
            "tags": [],
            "needs_background": "light"
          }
        }
      ]
    },
    {
      "cell_type": "markdown",
      "metadata": {
        "id": "TG1snlpR2QCK"
      },
      "source": [
        "If you plot the predictions as a function of `SiO2`, you'll see how this model takes advantage of the nonlinearity provided by the hidden layers:"
      ]
    },
    {
      "cell_type": "code",
      "metadata": {
        "id": "hPF53Rem14NS"
      },
      "source": [
        "x = tf.linspace(0.0, 250, 251)\n",
        "y = dnn_SiO2_model.predict(x)"
      ],
      "execution_count": 43,
      "outputs": []
    },
    {
      "cell_type": "code",
      "metadata": {
        "id": "rsf9rD8I17Wq",
        "colab": {
          "base_uri": "https://localhost:8080/",
          "height": 279
        },
        "outputId": "8a86c846-4c41-4b6f-8fae-1ede09dd03df"
      },
      "source": [
        "plot_SiO2(x, y)"
      ],
      "execution_count": 44,
      "outputs": [
        {
          "output_type": "display_data",
          "data": {
            "image/png": "[encoded data removed]",
            "text/plain": [
              "<Figure size 432x288 with 1 Axes>"
            ]
          },
          "metadata": {
            "tags": [],
            "needs_background": "light"
          }
        }
      ]
    },
    {
      "cell_type": "markdown",
      "metadata": {
        "id": "WxCJKIUpe4io"
      },
      "source": [
        "Collect the results on the test set, for later:"
      ]
    },
    {
      "cell_type": "code",
      "metadata": {
        "id": "bJjM0dU52XtN"
      },
      "source": [
        "test_results['dnn_SiO2_model'] = dnn_SiO2_model.evaluate(\n",
        "    test_features['SiO2'], test_labels,\n",
        "    verbose=0)"
      ],
      "execution_count": 45,
      "outputs": []
    },
    {
      "cell_type": "markdown",
      "metadata": {
        "id": "S_2Btebp2e64"
      },
      "source": [
        "### Full model"
      ]
    },
    {
      "cell_type": "markdown",
      "metadata": {
        "id": "aKFtezDldLSf"
      },
      "source": [
        "If you repeat this process using all the inputs it slightly improves the performance on the validation dataset."
      ]
    },
    {
      "cell_type": "code",
      "metadata": {
        "id": "c0mhscXh2k36",
        "colab": {
          "base_uri": "https://localhost:8080/"
        },
        "outputId": "b174b1bf-b89f-4627-b103-c1fccd73fb78"
      },
      "source": [
        "dnn_model = build_and_compile_model(normalizer)\n",
        "dnn_model.summary()"
      ],
      "execution_count": 46,
      "outputs": [
        {
          "output_type": "stream",
          "text": [
            "Model: \"sequential_3\"\n",
            "_________________________________________________________________\n",
            "Layer (type)                 Output Shape              Param #   \n",
            "=================================================================\n",
            "normalization (Normalization (None, 25)                51        \n",
            "_________________________________________________________________\n",
            "dense_5 (Dense)              (None, 64)                1664      \n",
            "_________________________________________________________________\n",
            "dense_6 (Dense)              (None, 64)                4160      \n",
            "_________________________________________________________________\n",
            "dense_7 (Dense)              (None, 1)                 65        \n",
            "=================================================================\n",
            "Total params: 5,940\n",
            "Trainable params: 5,889\n",
            "Non-trainable params: 51\n",
            "_________________________________________________________________\n"
          ],
          "name": "stdout"
        }
      ]
    },
    {
      "cell_type": "code",
      "metadata": {
        "id": "CXDENACl2tuW",
        "colab": {
          "base_uri": "https://localhost:8080/"
        },
        "outputId": "b0addfdb-c038-4f4e-baa3-ce884d319d7c"
      },
      "source": [
        "%%time\n",
        "history = dnn_model.fit(\n",
        "    train_features, train_labels,\n",
        "    validation_split=0.2,\n",
        "    verbose=0, epochs=100)"
      ],
      "execution_count": 47,
      "outputs": [
        {
          "output_type": "stream",
          "text": [
            "CPU times: user 51 s, sys: 8.74 s, total: 59.8 s\n",
            "Wall time: 31.6 s\n"
          ],
          "name": "stdout"
        }
      ]
    },
    {
      "cell_type": "code",
      "metadata": {
        "id": "-9Dbj0fX23RQ",
        "colab": {
          "base_uri": "https://localhost:8080/",
          "height": 283
        },
        "outputId": "28d8a326-6ef2-4091-e346-bed245d6c043"
      },
      "source": [
        "plot_loss(history)"
      ],
      "execution_count": 48,
      "outputs": [
        {
          "output_type": "display_data",
          "data": {
            "image/png": "[encoded data removed]",
            "text/plain": [
              "<Figure size 432x288 with 1 Axes>"
            ]
          },
          "metadata": {
            "tags": [],
            "needs_background": "light"
          }
        }
      ]
    },
    {
      "cell_type": "markdown",
      "metadata": {
        "id": "hWoVYS34fJPZ"
      },
      "source": [
        "Collect the results on the test set:"
      ]
    },
    {
      "cell_type": "code",
      "metadata": {
        "id": "-bZIa96W3c7K"
      },
      "source": [
        "test_results['dnn_model'] = dnn_model.evaluate(test_features, test_labels, verbose=0)"
      ],
      "execution_count": 49,
      "outputs": []
    },
    {
      "cell_type": "markdown",
      "metadata": {
        "id": "uiCucdPLfMkZ"
      },
      "source": [
        "## Performance"
      ]
    },
    {
      "cell_type": "markdown",
      "metadata": {
        "id": "rDf1xebEfWBw"
      },
      "source": [
        "Now that all the models are trained check the test-set performance and see how they did:"
      ]
    },
    {
      "cell_type": "code",
      "metadata": {
        "id": "e5_ooufM5iH2",
        "colab": {
          "base_uri": "https://localhost:8080/",
          "height": 168
        },
        "outputId": "bfb25f6c-0a10-4b67-d680-859fa76b6e4c"
      },
      "source": [
        "pd.DataFrame(test_results, index=['Mean absolute error [cone]']).T"
      ],
      "execution_count": 50,
      "outputs": [
        {
          "output_type": "execute_result",
          "data": {
            "text/html": [
              "<div>\n",
              "<style scoped>\n",
              "    .dataframe tbody tr th:only-of-type {\n",
              "        vertical-align: middle;\n",
              "    }\n",
              "\n",
              "    .dataframe tbody tr th {\n",
              "        vertical-align: top;\n",
              "    }\n",
              "\n",
              "    .dataframe thead th {\n",
              "        text-align: right;\n",
              "    }\n",
              "</style>\n",
              "<table border=\"1\" class=\"dataframe\">\n",
              "  <thead>\n",
              "    <tr style=\"text-align: right;\">\n",
              "      <th></th>\n",
              "      <th>Mean absolute error [cone]</th>\n",
              "    </tr>\n",
              "  </thead>\n",
              "  <tbody>\n",
              "    <tr>\n",
              "      <th>SiO2_model</th>\n",
              "      <td>2.618606</td>\n",
              "    </tr>\n",
              "    <tr>\n",
              "      <th>linear_model</th>\n",
              "      <td>2.084193</td>\n",
              "    </tr>\n",
              "    <tr>\n",
              "      <th>dnn_SiO2_model</th>\n",
              "      <td>2.368547</td>\n",
              "    </tr>\n",
              "    <tr>\n",
              "      <th>dnn_model</th>\n",
              "      <td>1.584327</td>\n",
              "    </tr>\n",
              "  </tbody>\n",
              "</table>\n",
              "</div>"
            ],
            "text/plain": [
              "                Mean absolute error [cone]\n",
              "SiO2_model                        2.618606\n",
              "linear_model                      2.084193\n",
              "dnn_SiO2_model                    2.368547\n",
              "dnn_model                         1.584327"
            ]
          },
          "metadata": {
            "tags": []
          },
          "execution_count": 50
        }
      ]
    },
    {
      "cell_type": "markdown",
      "metadata": {
        "id": "DABIVzsCf-QI"
      },
      "source": [
        "These results match the validation error seen during training."
      ]
    },
    {
      "cell_type": "markdown",
      "metadata": {
        "id": "ft603OzXuEZC"
      },
      "source": [
        "### Make predictions\n",
        "\n",
        "Finally, predict have a look at the errors made by the model when making predictions on the test set:"
      ]
    },
    {
      "cell_type": "code",
      "metadata": {
        "id": "Xe7RXH3N3CWU",
        "colab": {
          "base_uri": "https://localhost:8080/",
          "height": 283
        },
        "outputId": "2d6e79ce-ee29-4e51-814d-98c9ef32b3c6"
      },
      "source": [
        "test_predictions = dnn_model.predict(test_features).flatten()\n",
        "\n",
        "a = plt.axes(aspect='equal')\n",
        "plt.scatter(test_labels, test_predictions)\n",
        "plt.xlabel('True Values [cone]')\n",
        "plt.ylabel('Predictions [cone]')\n",
        "lims = [0, 50]\n",
        "plt.xlim(lims)\n",
        "plt.ylim(lims)\n",
        "_ = plt.plot(lims, lims)\n"
      ],
      "execution_count": 51,
      "outputs": [
        {
          "output_type": "display_data",
          "data": {
            "image/png": "[encoded data removed]",
            "text/plain": [
              "<Figure size 432x288 with 1 Axes>"
            ]
          },
          "metadata": {
            "tags": [],
            "needs_background": "light"
          }
        }
      ]
    },
    {
      "cell_type": "markdown",
      "metadata": {
        "id": "19wyogbOSU5t"
      },
      "source": [
        "It looks like the model predicts reasonably well. \n",
        "\n",
        "Now take a look at the error distribution:"
      ]
    },
    {
      "cell_type": "code",
      "metadata": {
        "id": "f-OHX4DiXd8x",
        "colab": {
          "base_uri": "https://localhost:8080/",
          "height": 279
        },
        "outputId": "e4f9cc24-a3be-4e8f-e3c9-e20fc7011f8b"
      },
      "source": [
        "error = test_predictions - test_labels\n",
        "plt.hist(error, bins=50)\n",
        "plt.xlabel('Prediction Error [cone]')\n",
        "_ = plt.ylabel('Count')"
      ],
      "execution_count": 52,
      "outputs": [
        {
          "output_type": "display_data",
          "data": {
            "image/png": "[encoded data removed]",
            "text/plain": [
              "<Figure size 432x288 with 1 Axes>"
            ]
          },
          "metadata": {
            "tags": [],
            "needs_background": "light"
          }
        }
      ]
    },
    {
      "cell_type": "markdown",
      "metadata": {
        "id": "KSyaHUfDT-mZ"
      },
      "source": [
        "If you're happy with the model save it for later use:"
      ]
    },
    {
      "cell_type": "code",
      "metadata": {
        "id": "4-WwLlmfT-mb",
        "colab": {
          "base_uri": "https://localhost:8080/"
        },
        "outputId": "52e707b4-f4a8-4781-f598-931ae214a328"
      },
      "source": [
        "dnn_model.save('dnn_model')"
      ],
      "execution_count": 53,
      "outputs": [
        {
          "output_type": "stream",
          "text": [
            "INFO:tensorflow:Assets written to: dnn_model/assets\n"
          ],
          "name": "stdout"
        }
      ]
    },
    {
      "cell_type": "markdown",
      "metadata": {
        "id": "Benlnl8UT-me"
      },
      "source": [
        "If you reload the model, it gives identical output:"
      ]
    },
    {
      "cell_type": "code",
      "metadata": {
        "id": "dyyyj2zVT-mf"
      },
      "source": [
        "reloaded = tf.keras.models.load_model('dnn_model')\n",
        "\n",
        "test_results['reloaded'] = reloaded.evaluate(\n",
        "    test_features, test_labels, verbose=0)"
      ],
      "execution_count": 54,
      "outputs": []
    },
    {
      "cell_type": "code",
      "metadata": {
        "id": "f_GchJ2tg-2o",
        "colab": {
          "base_uri": "https://localhost:8080/",
          "height": 198
        },
        "outputId": "1372a40d-e3b7-4211-ff70-b6f8cd736e48"
      },
      "source": [
        "pd.DataFrame(test_results, index=['Mean absolute error [cone]']).T"
      ],
      "execution_count": 55,
      "outputs": [
        {
          "output_type": "execute_result",
          "data": {
            "text/html": [
              "<div>\n",
              "<style scoped>\n",
              "    .dataframe tbody tr th:only-of-type {\n",
              "        vertical-align: middle;\n",
              "    }\n",
              "\n",
              "    .dataframe tbody tr th {\n",
              "        vertical-align: top;\n",
              "    }\n",
              "\n",
              "    .dataframe thead th {\n",
              "        text-align: right;\n",
              "    }\n",
              "</style>\n",
              "<table border=\"1\" class=\"dataframe\">\n",
              "  <thead>\n",
              "    <tr style=\"text-align: right;\">\n",
              "      <th></th>\n",
              "      <th>Mean absolute error [cone]</th>\n",
              "    </tr>\n",
              "  </thead>\n",
              "  <tbody>\n",
              "    <tr>\n",
              "      <th>SiO2_model</th>\n",
              "      <td>2.618606</td>\n",
              "    </tr>\n",
              "    <tr>\n",
              "      <th>linear_model</th>\n",
              "      <td>2.084193</td>\n",
              "    </tr>\n",
              "    <tr>\n",
              "      <th>dnn_SiO2_model</th>\n",
              "      <td>2.368547</td>\n",
              "    </tr>\n",
              "    <tr>\n",
              "      <th>dnn_model</th>\n",
              "      <td>1.584327</td>\n",
              "    </tr>\n",
              "    <tr>\n",
              "      <th>reloaded</th>\n",
              "      <td>1.584327</td>\n",
              "    </tr>\n",
              "  </tbody>\n",
              "</table>\n",
              "</div>"
            ],
            "text/plain": [
              "                Mean absolute error [cone]\n",
              "SiO2_model                        2.618606\n",
              "linear_model                      2.084193\n",
              "dnn_SiO2_model                    2.368547\n",
              "dnn_model                         1.584327\n",
              "reloaded                          1.584327"
            ]
          },
          "metadata": {
            "tags": []
          },
          "execution_count": 55
        }
      ]
    },
    {
      "cell_type": "markdown",
      "metadata": {
        "id": "vgGQuV-yqYZH"
      },
      "source": [
        "## Conclusion\n",
        "\n",
        "This notebook introduced a few techniques to handle a regression problem. Here are a few more tips that may help:\n",
        "\n",
        "* [Mean Squared Error (MSE)](https://www.tensorflow.org/api_docs/python/tf/losses/MeanSquaredError) and [Mean Absolute Error (MAE)](https://www.tensorflow.org/api_docs/python/tf/losses/MeanAbsoluteError) are common loss functions used for regression problems. Mean Absolute Error is less sensitive to outliers. Different loss functions are used for classification problems.\n",
        "* Similarly, evaluation metrics used for regression differ from classification.\n",
        "* When numeric input data features have values with different ranges, each feature should be scaled independently to the same range.\n",
        "* Overfitting is a common problem for DNN models, it wasn't a problem for this tutorial. See the [overfit and underfit](overfit_and_underfit.ipynb) tutorial for more help with this.\n"
      ]
    }
  ]
}